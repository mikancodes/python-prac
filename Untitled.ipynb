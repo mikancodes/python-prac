{
 "cells": [
  {
   "cell_type": "code",
   "execution_count": 160,
   "id": "df12688d",
   "metadata": {},
   "outputs": [],
   "source": [
    "st='hi how are you'"
   ]
  },
  {
   "cell_type": "code",
   "execution_count": 161,
   "id": "d008199a",
   "metadata": {},
   "outputs": [
    {
     "name": "stdout",
     "output_type": "stream",
     "text": [
      "hi how are you\n"
     ]
    }
   ],
   "source": [
    "print(st)"
   ]
  },
  {
   "cell_type": "code",
   "execution_count": 3,
   "id": "89e3b595",
   "metadata": {},
   "outputs": [],
   "source": [
    "st =\"hi how are you\""
   ]
  },
  {
   "cell_type": "code",
   "execution_count": 4,
   "id": "c98f557d",
   "metadata": {},
   "outputs": [
    {
     "data": {
      "text/plain": [
       "'hi how are you'"
      ]
     },
     "execution_count": 4,
     "metadata": {},
     "output_type": "execute_result"
    }
   ],
   "source": [
    "st"
   ]
  },
  {
   "cell_type": "code",
   "execution_count": 5,
   "id": "1f7accd9",
   "metadata": {},
   "outputs": [],
   "source": [
    "st =\"this is babjee's laptop\""
   ]
  },
  {
   "cell_type": "code",
   "execution_count": 6,
   "id": "78a31020",
   "metadata": {},
   "outputs": [
    {
     "data": {
      "text/plain": [
       "\"this is babjee's laptop\""
      ]
     },
     "execution_count": 6,
     "metadata": {},
     "output_type": "execute_result"
    }
   ],
   "source": [
    "st"
   ]
  },
  {
   "cell_type": "code",
   "execution_count": 7,
   "id": "3a652e8c",
   "metadata": {},
   "outputs": [],
   "source": [
    "st ='''hi how are you\n",
    "how is your day\n",
    "how is your brother'''"
   ]
  },
  {
   "cell_type": "code",
   "execution_count": 8,
   "id": "45d16315",
   "metadata": {},
   "outputs": [
    {
     "data": {
      "text/plain": [
       "'hi how are you\\nhow is your day\\nhow is your brother'"
      ]
     },
     "execution_count": 8,
     "metadata": {},
     "output_type": "execute_result"
    }
   ],
   "source": [
    "st"
   ]
  },
  {
   "cell_type": "code",
   "execution_count": 9,
   "id": "736ab7bf",
   "metadata": {},
   "outputs": [
    {
     "name": "stdout",
     "output_type": "stream",
     "text": [
      "hi how are you\n",
      "how is your day\n",
      "how is your brother\n"
     ]
    }
   ],
   "source": [
    "print(st)"
   ]
  },
  {
   "cell_type": "code",
   "execution_count": 162,
   "id": "4d2ef839",
   "metadata": {},
   "outputs": [],
   "source": [
    "varInt =10"
   ]
  },
  {
   "cell_type": "code",
   "execution_count": 163,
   "id": "0e816224",
   "metadata": {},
   "outputs": [
    {
     "data": {
      "text/plain": [
       "int"
      ]
     },
     "execution_count": 163,
     "metadata": {},
     "output_type": "execute_result"
    }
   ],
   "source": [
    "type(varInt)"
   ]
  },
  {
   "cell_type": "code",
   "execution_count": 164,
   "id": "4e091856",
   "metadata": {},
   "outputs": [],
   "source": [
    "varPi =20.2"
   ]
  },
  {
   "cell_type": "code",
   "execution_count": 167,
   "id": "d443d8de",
   "metadata": {},
   "outputs": [],
   "source": [
    "a = 10 >5"
   ]
  },
  {
   "cell_type": "code",
   "execution_count": 168,
   "id": "d9ed377f",
   "metadata": {},
   "outputs": [
    {
     "data": {
      "text/plain": [
       "bool"
      ]
     },
     "execution_count": 168,
     "metadata": {},
     "output_type": "execute_result"
    }
   ],
   "source": [
    "type(a)"
   ]
  },
  {
   "cell_type": "code",
   "execution_count": 15,
   "id": "a6ebed5d",
   "metadata": {},
   "outputs": [
    {
     "data": {
      "text/plain": [
       "bool"
      ]
     },
     "execution_count": 15,
     "metadata": {},
     "output_type": "execute_result"
    }
   ],
   "source": [
    "type(a)"
   ]
  },
  {
   "cell_type": "code",
   "execution_count": 173,
   "id": "110af731",
   "metadata": {},
   "outputs": [],
   "source": [
    "a=b=c=10"
   ]
  },
  {
   "cell_type": "code",
   "execution_count": 18,
   "id": "72d3574f",
   "metadata": {
    "scrolled": true
   },
   "outputs": [
    {
     "name": "stdout",
     "output_type": "stream",
     "text": [
      "10 10 10\n"
     ]
    }
   ],
   "source": [
    "print(a,b,c)"
   ]
  },
  {
   "cell_type": "code",
   "execution_count": 175,
   "id": "44584ac5",
   "metadata": {},
   "outputs": [],
   "source": [
    "a,b,c =10,20,30"
   ]
  },
  {
   "cell_type": "code",
   "execution_count": 176,
   "id": "4d741e58",
   "metadata": {},
   "outputs": [
    {
     "name": "stdout",
     "output_type": "stream",
     "text": [
      "140708157625416\n",
      "140708157626056\n",
      "140708157626056\n"
     ]
    }
   ],
   "source": [
    "print(id(a))\n",
    "print(id(c))\n",
    "print(id(c))\n"
   ]
  },
  {
   "cell_type": "code",
   "execution_count": 177,
   "id": "c13b7f50",
   "metadata": {},
   "outputs": [],
   "source": [
    "import datetime\n",
    ">>> d = datetime.datetime(2009, 10, 5, 18, 00)"
   ]
  },
  {
   "cell_type": "code",
   "execution_count": 178,
   "id": "5f21eeef",
   "metadata": {},
   "outputs": [
    {
     "data": {
      "text/plain": [
       "datetime.datetime"
      ]
     },
     "execution_count": 178,
     "metadata": {},
     "output_type": "execute_result"
    }
   ],
   "source": [
    "type(d)"
   ]
  },
  {
   "cell_type": "code",
   "execution_count": 179,
   "id": "a029f00e",
   "metadata": {},
   "outputs": [],
   "source": [
    "st='hi how are you'"
   ]
  },
  {
   "cell_type": "code",
   "execution_count": 180,
   "id": "f6272ccd",
   "metadata": {},
   "outputs": [
    {
     "data": {
      "text/plain": [
       "'h'"
      ]
     },
     "execution_count": 180,
     "metadata": {},
     "output_type": "execute_result"
    }
   ],
   "source": [
    "st[0]"
   ]
  },
  {
   "cell_type": "code",
   "execution_count": 181,
   "id": "26e49d83",
   "metadata": {},
   "outputs": [
    {
     "data": {
      "text/plain": [
       "'u'"
      ]
     },
     "execution_count": 181,
     "metadata": {},
     "output_type": "execute_result"
    }
   ],
   "source": [
    "st[-1]"
   ]
  },
  {
   "cell_type": "code",
   "execution_count": 184,
   "id": "57293598",
   "metadata": {},
   "outputs": [
    {
     "data": {
      "text/plain": [
       "'hi '"
      ]
     },
     "execution_count": 184,
     "metadata": {},
     "output_type": "execute_result"
    }
   ],
   "source": [
    "st[:3]"
   ]
  },
  {
   "cell_type": "code",
   "execution_count": 185,
   "id": "53e6f41b",
   "metadata": {},
   "outputs": [
    {
     "data": {
      "text/plain": [
       "'uoy era woh ih'"
      ]
     },
     "execution_count": 185,
     "metadata": {},
     "output_type": "execute_result"
    }
   ],
   "source": [
    "st[::-1]"
   ]
  },
  {
   "cell_type": "code",
   "execution_count": 186,
   "id": "b22f8475",
   "metadata": {},
   "outputs": [
    {
     "data": {
      "text/plain": [
       "'h o r o'"
      ]
     },
     "execution_count": 186,
     "metadata": {},
     "output_type": "execute_result"
    }
   ],
   "source": [
    "st[::2]"
   ]
  },
  {
   "cell_type": "code",
   "execution_count": 39,
   "id": "6aac6d51",
   "metadata": {},
   "outputs": [
    {
     "data": {
      "text/plain": [
       "'e y'"
      ]
     },
     "execution_count": 39,
     "metadata": {},
     "output_type": "execute_result"
    }
   ],
   "source": [
    "st[-5:-2]"
   ]
  },
  {
   "cell_type": "code",
   "execution_count": 187,
   "id": "17bd6265",
   "metadata": {},
   "outputs": [
    {
     "data": {
      "text/plain": [
       "'Hi how are you'"
      ]
     },
     "execution_count": 187,
     "metadata": {},
     "output_type": "execute_result"
    }
   ],
   "source": [
    "st.capitalize()"
   ]
  },
  {
   "cell_type": "code",
   "execution_count": 188,
   "id": "269e363f",
   "metadata": {},
   "outputs": [
    {
     "data": {
      "text/plain": [
       "'        hi how are you        '"
      ]
     },
     "execution_count": 188,
     "metadata": {},
     "output_type": "execute_result"
    }
   ],
   "source": [
    "st.center(30)"
   ]
  },
  {
   "cell_type": "code",
   "execution_count": 190,
   "id": "f22de194",
   "metadata": {},
   "outputs": [
    {
     "data": {
      "text/plain": [
       "1"
      ]
     },
     "execution_count": 190,
     "metadata": {},
     "output_type": "execute_result"
    }
   ],
   "source": [
    "st.count('hi')"
   ]
  },
  {
   "cell_type": "code",
   "execution_count": 191,
   "id": "9e286222",
   "metadata": {},
   "outputs": [
    {
     "data": {
      "text/plain": [
       "7"
      ]
     },
     "execution_count": 191,
     "metadata": {},
     "output_type": "execute_result"
    }
   ],
   "source": [
    "st.find('are')"
   ]
  },
  {
   "cell_type": "code",
   "execution_count": 45,
   "id": "44092545",
   "metadata": {},
   "outputs": [
    {
     "data": {
      "text/plain": [
       "'My name is Ram and I am 22 year old'"
      ]
     },
     "execution_count": 45,
     "metadata": {},
     "output_type": "execute_result"
    }
   ],
   "source": [
    "\n",
    "\n",
    "name = \"Ram\"\n",
    "age = 22\n",
    "message = \"My name is {0} and I am {1} year old\"\n",
    "message.format(name,age)"
   ]
  },
  {
   "cell_type": "code",
   "execution_count": 192,
   "id": "d456c5cd",
   "metadata": {},
   "outputs": [
    {
     "data": {
      "text/plain": [
       "3"
      ]
     },
     "execution_count": 192,
     "metadata": {},
     "output_type": "execute_result"
    }
   ],
   "source": [
    "st.index('how')"
   ]
  },
  {
   "cell_type": "code",
   "execution_count": 194,
   "id": "15021d9c",
   "metadata": {},
   "outputs": [
    {
     "data": {
      "text/plain": [
       "True"
      ]
     },
     "execution_count": 194,
     "metadata": {},
     "output_type": "execute_result"
    }
   ],
   "source": [
    "\"hi123\".isalnum()"
   ]
  },
  {
   "cell_type": "code",
   "execution_count": 196,
   "id": "4daa7b2f",
   "metadata": {},
   "outputs": [
    {
     "data": {
      "text/plain": [
       "True"
      ]
     },
     "execution_count": 196,
     "metadata": {},
     "output_type": "execute_result"
    }
   ],
   "source": [
    "'hi'.isalpha()"
   ]
  },
  {
   "cell_type": "code",
   "execution_count": 49,
   "id": "96ae6d44",
   "metadata": {},
   "outputs": [
    {
     "data": {
      "text/plain": [
       "True"
      ]
     },
     "execution_count": 49,
     "metadata": {},
     "output_type": "execute_result"
    }
   ],
   "source": [
    "st.isascii()"
   ]
  },
  {
   "cell_type": "code",
   "execution_count": 50,
   "id": "09925962",
   "metadata": {},
   "outputs": [
    {
     "data": {
      "text/plain": [
       "False"
      ]
     },
     "execution_count": 50,
     "metadata": {},
     "output_type": "execute_result"
    }
   ],
   "source": [
    "st.isdecimal()"
   ]
  },
  {
   "cell_type": "code",
   "execution_count": 51,
   "id": "e166b528",
   "metadata": {},
   "outputs": [
    {
     "data": {
      "text/plain": [
       "False"
      ]
     },
     "execution_count": 51,
     "metadata": {},
     "output_type": "execute_result"
    }
   ],
   "source": [
    "st.isdigit()"
   ]
  },
  {
   "cell_type": "code",
   "execution_count": 52,
   "id": "7323acdc",
   "metadata": {},
   "outputs": [
    {
     "data": {
      "text/plain": [
       "False"
      ]
     },
     "execution_count": 52,
     "metadata": {},
     "output_type": "execute_result"
    }
   ],
   "source": [
    "st.isidentifier()"
   ]
  },
  {
   "cell_type": "code",
   "execution_count": 197,
   "id": "4bf0cfab",
   "metadata": {},
   "outputs": [
    {
     "data": {
      "text/plain": [
       "True"
      ]
     },
     "execution_count": 197,
     "metadata": {},
     "output_type": "execute_result"
    }
   ],
   "source": [
    "st.islower()"
   ]
  },
  {
   "cell_type": "code",
   "execution_count": 54,
   "id": "7cf906a6",
   "metadata": {},
   "outputs": [
    {
     "data": {
      "text/plain": [
       "False"
      ]
     },
     "execution_count": 54,
     "metadata": {},
     "output_type": "execute_result"
    }
   ],
   "source": [
    "st.isnumeric()"
   ]
  },
  {
   "cell_type": "code",
   "execution_count": 199,
   "id": "8058a990",
   "metadata": {},
   "outputs": [
    {
     "data": {
      "text/plain": [
       "False"
      ]
     },
     "execution_count": 199,
     "metadata": {},
     "output_type": "execute_result"
    }
   ],
   "source": [
    "\"\\n\".isprintable()"
   ]
  },
  {
   "cell_type": "code",
   "execution_count": 201,
   "id": "dcbe7645",
   "metadata": {},
   "outputs": [
    {
     "data": {
      "text/plain": [
       "False"
      ]
     },
     "execution_count": 201,
     "metadata": {},
     "output_type": "execute_result"
    }
   ],
   "source": [
    "st.isspace()"
   ]
  },
  {
   "cell_type": "code",
   "execution_count": 206,
   "id": "d2849ff8",
   "metadata": {},
   "outputs": [
    {
     "data": {
      "text/plain": [
       "14"
      ]
     },
     "execution_count": 206,
     "metadata": {},
     "output_type": "execute_result"
    }
   ],
   "source": [
    "len(st.upper())"
   ]
  },
  {
   "cell_type": "code",
   "execution_count": 59,
   "id": "f52a9d3f",
   "metadata": {},
   "outputs": [
    {
     "name": "stdout",
     "output_type": "stream",
     "text": [
      "h-e-l-l-o\n"
     ]
    }
   ],
   "source": [
    "str = '-'.join('hello')\n",
    "print(str)"
   ]
  },
  {
   "cell_type": "code",
   "execution_count": 208,
   "id": "71d09de6",
   "metadata": {},
   "outputs": [
    {
     "data": {
      "text/plain": [
       "40"
      ]
     },
     "execution_count": 208,
     "metadata": {},
     "output_type": "execute_result"
    }
   ],
   "source": [
    "len(st.ljust(40,'*'))\n"
   ]
  },
  {
   "cell_type": "code",
   "execution_count": 63,
   "id": "ba9f19bd",
   "metadata": {},
   "outputs": [
    {
     "data": {
      "text/plain": [
       "'hi how are you'"
      ]
     },
     "execution_count": 63,
     "metadata": {},
     "output_type": "execute_result"
    }
   ],
   "source": [
    "st.lower()"
   ]
  },
  {
   "cell_type": "code",
   "execution_count": 65,
   "id": "fee4a549",
   "metadata": {},
   "outputs": [
    {
     "data": {
      "text/plain": [
       "'hello'"
      ]
     },
     "execution_count": 65,
     "metadata": {},
     "output_type": "execute_result"
    }
   ],
   "source": [
    "'    hello'.lstrip()"
   ]
  },
  {
   "cell_type": "code",
   "execution_count": 209,
   "id": "04cc0953",
   "metadata": {},
   "outputs": [
    {
     "data": {
      "text/plain": [
       "'hellow how are you'"
      ]
     },
     "execution_count": 209,
     "metadata": {},
     "output_type": "execute_result"
    }
   ],
   "source": [
    "st.replace('hi','hellow')"
   ]
  },
  {
   "cell_type": "code",
   "execution_count": 67,
   "id": "424956a8",
   "metadata": {},
   "outputs": [
    {
     "data": {
      "text/plain": [
       "12"
      ]
     },
     "execution_count": 67,
     "metadata": {},
     "output_type": "execute_result"
    }
   ],
   "source": [
    "st.rfind('o')"
   ]
  },
  {
   "cell_type": "code",
   "execution_count": 68,
   "id": "e26b7500",
   "metadata": {},
   "outputs": [
    {
     "data": {
      "text/plain": [
       "'hi how are you'"
      ]
     },
     "execution_count": 68,
     "metadata": {},
     "output_type": "execute_result"
    }
   ],
   "source": [
    "st"
   ]
  },
  {
   "cell_type": "code",
   "execution_count": 210,
   "id": "b784266e",
   "metadata": {},
   "outputs": [
    {
     "data": {
      "text/plain": [
       "'**************************hi how are you'"
      ]
     },
     "execution_count": 210,
     "metadata": {},
     "output_type": "execute_result"
    }
   ],
   "source": [
    "st.rjust(40,'*')"
   ]
  },
  {
   "cell_type": "code",
   "execution_count": 211,
   "id": "a4e63954",
   "metadata": {},
   "outputs": [
    {
     "data": {
      "text/plain": [
       "'hi how are you'"
      ]
     },
     "execution_count": 211,
     "metadata": {},
     "output_type": "execute_result"
    }
   ],
   "source": [
    "'hi how are you        '.rstrip()"
   ]
  },
  {
   "cell_type": "code",
   "execution_count": 212,
   "id": "2214df26",
   "metadata": {},
   "outputs": [
    {
     "data": {
      "text/plain": [
       "['hi', 'how', 'are', 'you']"
      ]
     },
     "execution_count": 212,
     "metadata": {},
     "output_type": "execute_result"
    }
   ],
   "source": [
    "st.split()"
   ]
  },
  {
   "cell_type": "code",
   "execution_count": 72,
   "id": "231a7881",
   "metadata": {},
   "outputs": [
    {
     "data": {
      "text/plain": [
       "['hi how', 'are', 'you']"
      ]
     },
     "execution_count": 72,
     "metadata": {},
     "output_type": "execute_result"
    }
   ],
   "source": [
    "st.rsplit(' ' ,2)"
   ]
  },
  {
   "cell_type": "code",
   "execution_count": 218,
   "id": "2fd4b67f",
   "metadata": {},
   "outputs": [
    {
     "data": {
      "text/plain": [
       "['hi how are', 'you']"
      ]
     },
     "execution_count": 218,
     "metadata": {},
     "output_type": "execute_result"
    }
   ],
   "source": [
    "st.rsplit(' ',1 )"
   ]
  },
  {
   "cell_type": "code",
   "execution_count": 219,
   "id": "88f64dc2",
   "metadata": {},
   "outputs": [],
   "source": [
    "line='''hi how are you\n",
    "how is your day\n",
    "how is your friend'''"
   ]
  },
  {
   "cell_type": "code",
   "execution_count": 220,
   "id": "ed6473a2",
   "metadata": {},
   "outputs": [
    {
     "data": {
      "text/plain": [
       "['hi how are you', 'how is your day', 'how is your friend']"
      ]
     },
     "execution_count": 220,
     "metadata": {},
     "output_type": "execute_result"
    }
   ],
   "source": [
    "line.splitlines()"
   ]
  },
  {
   "cell_type": "code",
   "execution_count": 221,
   "id": "6c6fda0d",
   "metadata": {},
   "outputs": [
    {
     "data": {
      "text/plain": [
       "True"
      ]
     },
     "execution_count": 221,
     "metadata": {},
     "output_type": "execute_result"
    }
   ],
   "source": [
    "st.startswith('hi')"
   ]
  },
  {
   "cell_type": "code",
   "execution_count": 222,
   "id": "c8d09845",
   "metadata": {},
   "outputs": [
    {
     "data": {
      "text/plain": [
       "False"
      ]
     },
     "execution_count": 222,
     "metadata": {},
     "output_type": "execute_result"
    }
   ],
   "source": [
    "st.startswith('hello')"
   ]
  },
  {
   "cell_type": "code",
   "execution_count": 223,
   "id": "2570d32c",
   "metadata": {},
   "outputs": [
    {
     "data": {
      "text/plain": [
       "'hI hOW ARE yOU'"
      ]
     },
     "execution_count": 223,
     "metadata": {},
     "output_type": "execute_result"
    }
   ],
   "source": [
    "'Hi How are You'.swapcase()"
   ]
  },
  {
   "cell_type": "code",
   "execution_count": 81,
   "id": "99d9d141",
   "metadata": {},
   "outputs": [
    {
     "data": {
      "text/plain": [
       "'Hi How Are You'"
      ]
     },
     "execution_count": 81,
     "metadata": {},
     "output_type": "execute_result"
    }
   ],
   "source": [
    "st.title()"
   ]
  },
  {
   "cell_type": "code",
   "execution_count": 82,
   "id": "df8746f7",
   "metadata": {},
   "outputs": [
    {
     "data": {
      "text/plain": [
       "'HI HOW ARE YOU'"
      ]
     },
     "execution_count": 82,
     "metadata": {},
     "output_type": "execute_result"
    }
   ],
   "source": [
    "st.upper()"
   ]
  },
  {
   "cell_type": "code",
   "execution_count": 224,
   "id": "5d28183b",
   "metadata": {},
   "outputs": [],
   "source": [
    "st='222222'"
   ]
  },
  {
   "cell_type": "code",
   "execution_count": 225,
   "id": "161f6768",
   "metadata": {},
   "outputs": [
    {
     "data": {
      "text/plain": [
       "'00000000000000222222'"
      ]
     },
     "execution_count": 225,
     "metadata": {},
     "output_type": "execute_result"
    }
   ],
   "source": [
    "st.zfill(20)"
   ]
  },
  {
   "cell_type": "code",
   "execution_count": 85,
   "id": "2fef77d2",
   "metadata": {},
   "outputs": [],
   "source": [
    "#list In Python, a list is a sequence data type. It is an ordered collection of items\n",
    "#Python lists may have objects of different data types.\n",
    "#A Python list is mutable. Any item from the list can be accessed using its index, and can be modified. \n"
   ]
  },
  {
   "cell_type": "code",
   "execution_count": 226,
   "id": "1eaa2279",
   "metadata": {},
   "outputs": [],
   "source": [
    "lst =['apple','orange','mango','pinaple','apple']"
   ]
  },
  {
   "cell_type": "code",
   "execution_count": 230,
   "id": "12896472",
   "metadata": {},
   "outputs": [
    {
     "name": "stdout",
     "output_type": "stream",
     "text": [
      "['fig', 'orange', 'mango', 'pinaple', 'apple']\n"
     ]
    }
   ],
   "source": [
    "lst[0]='fig'\n",
    "print(lst)"
   ]
  },
  {
   "cell_type": "code",
   "execution_count": 231,
   "id": "94a30434",
   "metadata": {},
   "outputs": [
    {
     "name": "stdout",
     "output_type": "stream",
     "text": [
      "fig\n",
      "orange\n",
      "mango\n",
      "pinaple\n",
      "apple\n"
     ]
    }
   ],
   "source": [
    "for i in lst:print(i)"
   ]
  },
  {
   "cell_type": "code",
   "execution_count": 232,
   "id": "af0e03ff",
   "metadata": {},
   "outputs": [],
   "source": [
    "lst =list(('apple','orange','mango','pinaple'))\n"
   ]
  },
  {
   "cell_type": "code",
   "execution_count": 233,
   "id": "518754c9",
   "metadata": {},
   "outputs": [
    {
     "data": {
      "text/plain": [
       "list"
      ]
     },
     "execution_count": 233,
     "metadata": {},
     "output_type": "execute_result"
    }
   ],
   "source": [
    "type(lst)"
   ]
  },
  {
   "cell_type": "code",
   "execution_count": 236,
   "id": "df918b7e",
   "metadata": {},
   "outputs": [],
   "source": [
    "lst =[*range(0,11,2)]"
   ]
  },
  {
   "cell_type": "code",
   "execution_count": 237,
   "id": "061f4e54",
   "metadata": {},
   "outputs": [
    {
     "data": {
      "text/plain": [
       "[0, 2, 4, 6, 8, 10]"
      ]
     },
     "execution_count": 237,
     "metadata": {},
     "output_type": "execute_result"
    }
   ],
   "source": [
    "lst"
   ]
  },
  {
   "cell_type": "code",
   "execution_count": 98,
   "id": "cfbd3cd2",
   "metadata": {},
   "outputs": [],
   "source": [
    "lst =[*range(0,11,2)]"
   ]
  },
  {
   "cell_type": "code",
   "execution_count": 99,
   "id": "f4fb5b81",
   "metadata": {},
   "outputs": [
    {
     "data": {
      "text/plain": [
       "[0, 2, 4, 6, 8, 10]"
      ]
     },
     "execution_count": 99,
     "metadata": {},
     "output_type": "execute_result"
    }
   ],
   "source": [
    "lst"
   ]
  },
  {
   "cell_type": "code",
   "execution_count": 240,
   "id": "4f3ca6ac",
   "metadata": {},
   "outputs": [],
   "source": [
    "lst =[x*2 for x in range(1,10)]"
   ]
  },
  {
   "cell_type": "code",
   "execution_count": 241,
   "id": "772aafdc",
   "metadata": {},
   "outputs": [
    {
     "data": {
      "text/plain": [
       "[2, 4, 6, 8, 10, 12, 14, 16, 18]"
      ]
     },
     "execution_count": 241,
     "metadata": {},
     "output_type": "execute_result"
    }
   ],
   "source": [
    "lst"
   ]
  },
  {
   "cell_type": "code",
   "execution_count": 102,
   "id": "73ba3293",
   "metadata": {},
   "outputs": [
    {
     "data": {
      "text/plain": [
       "1"
      ]
     },
     "execution_count": 102,
     "metadata": {},
     "output_type": "execute_result"
    }
   ],
   "source": [
    "lst[0]"
   ]
  },
  {
   "cell_type": "code",
   "execution_count": 103,
   "id": "027deaa8",
   "metadata": {},
   "outputs": [
    {
     "data": {
      "text/plain": [
       "9"
      ]
     },
     "execution_count": 103,
     "metadata": {},
     "output_type": "execute_result"
    }
   ],
   "source": [
    "lst[-1]"
   ]
  },
  {
   "cell_type": "code",
   "execution_count": 104,
   "id": "b0433017",
   "metadata": {},
   "outputs": [
    {
     "data": {
      "text/plain": [
       "[1, 2, 3, 4]"
      ]
     },
     "execution_count": 104,
     "metadata": {},
     "output_type": "execute_result"
    }
   ],
   "source": [
    "lst[0:4]"
   ]
  },
  {
   "cell_type": "code",
   "execution_count": 105,
   "id": "426b1778",
   "metadata": {},
   "outputs": [
    {
     "data": {
      "text/plain": [
       "[1, 2, 3]"
      ]
     },
     "execution_count": 105,
     "metadata": {},
     "output_type": "execute_result"
    }
   ],
   "source": [
    "lst[3:]"
   ]
  },
  {
   "cell_type": "code",
   "execution_count": 106,
   "id": "4d19280b",
   "metadata": {},
   "outputs": [
    {
     "data": {
      "text/plain": [
       "[1, 2, 3, 4, 5, 6, 7, 8, 9]"
      ]
     },
     "execution_count": 106,
     "metadata": {},
     "output_type": "execute_result"
    }
   ],
   "source": [
    "lst"
   ]
  },
  {
   "cell_type": "code",
   "execution_count": 247,
   "id": "0f9cb70d",
   "metadata": {},
   "outputs": [
    {
     "name": "stdout",
     "output_type": "stream",
     "text": [
      "[10, 12, 14, 16, 18]\n"
     ]
    }
   ],
   "source": [
    "lst1 =lst[4:]\n",
    "print(lst1)"
   ]
  },
  {
   "cell_type": "code",
   "execution_count": 108,
   "id": "00452fa4",
   "metadata": {},
   "outputs": [
    {
     "data": {
      "text/plain": [
       "[1, 3, 5, 7, 9]"
      ]
     },
     "execution_count": 108,
     "metadata": {},
     "output_type": "execute_result"
    }
   ],
   "source": [
    "lst[::2]"
   ]
  },
  {
   "cell_type": "code",
   "execution_count": 109,
   "id": "548adabc",
   "metadata": {},
   "outputs": [
    {
     "data": {
      "text/plain": [
       "[9, 8, 7, 6, 5, 4, 3, 2, 1]"
      ]
     },
     "execution_count": 109,
     "metadata": {},
     "output_type": "execute_result"
    }
   ],
   "source": [
    "lst[::-1]"
   ]
  },
  {
   "cell_type": "code",
   "execution_count": 110,
   "id": "eca70f7a",
   "metadata": {},
   "outputs": [
    {
     "data": {
      "text/plain": [
       "[7, 8, 9]"
      ]
     },
     "execution_count": 110,
     "metadata": {},
     "output_type": "execute_result"
    }
   ],
   "source": [
    "lst[-3:]"
   ]
  },
  {
   "cell_type": "code",
   "execution_count": 111,
   "id": "9b76b413",
   "metadata": {},
   "outputs": [
    {
     "data": {
      "text/plain": [
       "[1, 2, 3, 4, 5, 6]"
      ]
     },
     "execution_count": 111,
     "metadata": {},
     "output_type": "execute_result"
    }
   ],
   "source": [
    "lst[:-3]"
   ]
  },
  {
   "cell_type": "code",
   "execution_count": 113,
   "id": "9f549b5c",
   "metadata": {},
   "outputs": [
    {
     "data": {
      "text/plain": [
       "[5, 6, 7]"
      ]
     },
     "execution_count": 113,
     "metadata": {},
     "output_type": "execute_result"
    }
   ],
   "source": [
    "lst[-5:-2]"
   ]
  },
  {
   "cell_type": "code",
   "execution_count": 243,
   "id": "2a742b2c",
   "metadata": {},
   "outputs": [],
   "source": [
    "my_list = [[1, 2, 3], [4, 5, 6], [7, 8, 9]]"
   ]
  },
  {
   "cell_type": "code",
   "execution_count": 123,
   "id": "4182efa1",
   "metadata": {},
   "outputs": [
    {
     "name": "stdout",
     "output_type": "stream",
     "text": [
      "[[1, 2, 3], [4, 5, 6], [7, 8, 0]]\n"
     ]
    }
   ],
   "source": [
    "print(lst)"
   ]
  },
  {
   "cell_type": "code",
   "execution_count": 244,
   "id": "a042b247",
   "metadata": {},
   "outputs": [
    {
     "data": {
      "text/plain": [
       "1"
      ]
     },
     "execution_count": 244,
     "metadata": {},
     "output_type": "execute_result"
    }
   ],
   "source": [
    "my_list[0][0]"
   ]
  },
  {
   "cell_type": "code",
   "execution_count": 245,
   "id": "a7dbe39a",
   "metadata": {},
   "outputs": [
    {
     "data": {
      "text/plain": [
       "2"
      ]
     },
     "execution_count": 245,
     "metadata": {},
     "output_type": "execute_result"
    }
   ],
   "source": [
    "my_list[0][1]"
   ]
  },
  {
   "cell_type": "code",
   "execution_count": 130,
   "id": "fb98195c",
   "metadata": {},
   "outputs": [
    {
     "data": {
      "text/plain": [
       "[1, 2]"
      ]
     },
     "execution_count": 130,
     "metadata": {},
     "output_type": "execute_result"
    }
   ],
   "source": [
    "#o extract the first two elements of the first inner lis\n",
    "my_list[0][:2]"
   ]
  },
  {
   "cell_type": "code",
   "execution_count": 250,
   "id": "b4ff8131",
   "metadata": {},
   "outputs": [
    {
     "name": "stdout",
     "output_type": "stream",
     "text": [
      "123456789"
     ]
    }
   ],
   "source": [
    "for i in my_list:\n",
    "    for j in i:\n",
    "        print(j,end='')"
   ]
  },
  {
   "cell_type": "code",
   "execution_count": 257,
   "id": "699d8bc3",
   "metadata": {},
   "outputs": [],
   "source": [
    "lst =['apple','mango','orange']"
   ]
  },
  {
   "cell_type": "code",
   "execution_count": 252,
   "id": "17e6820d",
   "metadata": {},
   "outputs": [],
   "source": [
    "lst.append('sapota')"
   ]
  },
  {
   "cell_type": "code",
   "execution_count": 253,
   "id": "70379b7f",
   "metadata": {},
   "outputs": [
    {
     "data": {
      "text/plain": [
       "['apple', 'mango', 'orange', 'sapota']"
      ]
     },
     "execution_count": 253,
     "metadata": {},
     "output_type": "execute_result"
    }
   ],
   "source": [
    "lst"
   ]
  },
  {
   "cell_type": "code",
   "execution_count": 149,
   "id": "03335d11",
   "metadata": {},
   "outputs": [],
   "source": [
    "lst.append('apple')"
   ]
  },
  {
   "cell_type": "code",
   "execution_count": 150,
   "id": "163cf009",
   "metadata": {},
   "outputs": [
    {
     "data": {
      "text/plain": [
       "['apple', 'mango', 'orange', 'sapota', 'apple']"
      ]
     },
     "execution_count": 150,
     "metadata": {},
     "output_type": "execute_result"
    }
   ],
   "source": [
    "lst"
   ]
  },
  {
   "cell_type": "code",
   "execution_count": 254,
   "id": "a8d6aa56",
   "metadata": {},
   "outputs": [],
   "source": [
    "lst =[]\n",
    "for i in range(10):\n",
    "    lst.append(i)\n",
    "    "
   ]
  },
  {
   "cell_type": "code",
   "execution_count": 256,
   "id": "29f9b6fe",
   "metadata": {},
   "outputs": [
    {
     "name": "stdout",
     "output_type": "stream",
     "text": [
      "[0, 1, 2, 3, 4, 5, 6, 7, 8, 9]\n"
     ]
    }
   ],
   "source": [
    "print(lst)"
   ]
  },
  {
   "cell_type": "code",
   "execution_count": 259,
   "id": "9bcd5b97",
   "metadata": {},
   "outputs": [],
   "source": [
    "lst.extend(('fig','kiwi','banana'))"
   ]
  },
  {
   "cell_type": "code",
   "execution_count": 260,
   "id": "9160b0c4",
   "metadata": {},
   "outputs": [
    {
     "data": {
      "text/plain": [
       "['apple', 'mango', 'orange', 'fig', 'kiwi', 'banana', 'fig', 'kiwi', 'banana']"
      ]
     },
     "execution_count": 260,
     "metadata": {},
     "output_type": "execute_result"
    }
   ],
   "source": [
    "lst"
   ]
  },
  {
   "cell_type": "code",
   "execution_count": 261,
   "id": "15534336",
   "metadata": {},
   "outputs": [],
   "source": [
    "lst.extend(lst)"
   ]
  },
  {
   "cell_type": "code",
   "execution_count": 262,
   "id": "be3f22d4",
   "metadata": {},
   "outputs": [
    {
     "data": {
      "text/plain": [
       "['apple',\n",
       " 'mango',\n",
       " 'orange',\n",
       " 'fig',\n",
       " 'kiwi',\n",
       " 'banana',\n",
       " 'fig',\n",
       " 'kiwi',\n",
       " 'banana',\n",
       " 'apple',\n",
       " 'mango',\n",
       " 'orange',\n",
       " 'fig',\n",
       " 'kiwi',\n",
       " 'banana',\n",
       " 'fig',\n",
       " 'kiwi',\n",
       " 'banana']"
      ]
     },
     "execution_count": 262,
     "metadata": {},
     "output_type": "execute_result"
    }
   ],
   "source": [
    "lst"
   ]
  },
  {
   "cell_type": "code",
   "execution_count": 158,
   "id": "a0568f16",
   "metadata": {},
   "outputs": [],
   "source": [
    "lst =[]\n",
    "for i in range(0,10):\n",
    "    lst.append(i)"
   ]
  },
  {
   "cell_type": "code",
   "execution_count": 159,
   "id": "98c1cce9",
   "metadata": {},
   "outputs": [
    {
     "data": {
      "text/plain": [
       "[0, 1, 2, 3, 4, 5, 6, 7, 8, 9]"
      ]
     },
     "execution_count": 159,
     "metadata": {},
     "output_type": "execute_result"
    }
   ],
   "source": [
    "lst"
   ]
  },
  {
   "cell_type": "code",
   "execution_count": 264,
   "id": "e8ccfdbb",
   "metadata": {},
   "outputs": [
    {
     "data": {
      "text/plain": [
       "1"
      ]
     },
     "execution_count": 264,
     "metadata": {},
     "output_type": "execute_result"
    }
   ],
   "source": [
    "lst.index('mango')"
   ]
  },
  {
   "cell_type": "code",
   "execution_count": 163,
   "id": "7dac8489",
   "metadata": {},
   "outputs": [],
   "source": [
    "lst =['apple','mango','orange']"
   ]
  },
  {
   "cell_type": "code",
   "execution_count": 266,
   "id": "fb016925",
   "metadata": {},
   "outputs": [
    {
     "data": {
      "text/plain": [
       "'mango'"
      ]
     },
     "execution_count": 266,
     "metadata": {},
     "output_type": "execute_result"
    }
   ],
   "source": [
    "lst.pop(1)\n"
   ]
  },
  {
   "cell_type": "code",
   "execution_count": 165,
   "id": "fe912196",
   "metadata": {},
   "outputs": [],
   "source": [
    "lst =['apple','mango','orange']\n"
   ]
  },
  {
   "cell_type": "code",
   "execution_count": 168,
   "id": "4658cb68",
   "metadata": {},
   "outputs": [
    {
     "data": {
      "text/plain": [
       "'apple'"
      ]
     },
     "execution_count": 168,
     "metadata": {},
     "output_type": "execute_result"
    }
   ],
   "source": [
    "lst.pop(0)"
   ]
  },
  {
   "cell_type": "code",
   "execution_count": 267,
   "id": "651fa063",
   "metadata": {},
   "outputs": [],
   "source": [
    "lst.remove('mango')"
   ]
  },
  {
   "cell_type": "code",
   "execution_count": 268,
   "id": "a80d2d76",
   "metadata": {},
   "outputs": [],
   "source": [
    "lst.insert(3,'ram')"
   ]
  },
  {
   "cell_type": "code",
   "execution_count": 269,
   "id": "28f5d533",
   "metadata": {},
   "outputs": [
    {
     "data": {
      "text/plain": [
       "['apple',\n",
       " 'orange',\n",
       " 'fig',\n",
       " 'ram',\n",
       " 'kiwi',\n",
       " 'banana',\n",
       " 'fig',\n",
       " 'kiwi',\n",
       " 'banana',\n",
       " 'apple',\n",
       " 'orange',\n",
       " 'fig',\n",
       " 'kiwi',\n",
       " 'banana',\n",
       " 'fig',\n",
       " 'kiwi']"
      ]
     },
     "execution_count": 269,
     "metadata": {},
     "output_type": "execute_result"
    }
   ],
   "source": [
    "lst"
   ]
  },
  {
   "cell_type": "code",
   "execution_count": 171,
   "id": "e712ef19",
   "metadata": {},
   "outputs": [],
   "source": [
    "lst=[*range(10)]"
   ]
  },
  {
   "cell_type": "code",
   "execution_count": 270,
   "id": "059d91f0",
   "metadata": {},
   "outputs": [],
   "source": [
    "lst.remove('apple')"
   ]
  },
  {
   "cell_type": "code",
   "execution_count": 173,
   "id": "f7cffd70",
   "metadata": {},
   "outputs": [
    {
     "data": {
      "text/plain": [
       "[0, 1, 2, 3, 4, 5, 6, 7, 8]"
      ]
     },
     "execution_count": 173,
     "metadata": {},
     "output_type": "execute_result"
    }
   ],
   "source": [
    "lst"
   ]
  },
  {
   "cell_type": "code",
   "execution_count": 271,
   "id": "ab732b3e",
   "metadata": {},
   "outputs": [],
   "source": [
    "lst.reverse()\n"
   ]
  },
  {
   "cell_type": "code",
   "execution_count": 275,
   "id": "e2ba0db1",
   "metadata": {},
   "outputs": [],
   "source": [
    "lst.sort()"
   ]
  },
  {
   "cell_type": "code",
   "execution_count": 276,
   "id": "7a6eae42",
   "metadata": {},
   "outputs": [
    {
     "data": {
      "text/plain": [
       "['apple',\n",
       " 'banana',\n",
       " 'banana',\n",
       " 'banana',\n",
       " 'fig',\n",
       " 'fig',\n",
       " 'fig',\n",
       " 'fig',\n",
       " 'kiwi',\n",
       " 'kiwi',\n",
       " 'kiwi',\n",
       " 'kiwi',\n",
       " 'orange',\n",
       " 'orange',\n",
       " 'ram']"
      ]
     },
     "execution_count": 276,
     "metadata": {},
     "output_type": "execute_result"
    }
   ],
   "source": [
    "lst"
   ]
  },
  {
   "cell_type": "code",
   "execution_count": 280,
   "id": "4891b062",
   "metadata": {},
   "outputs": [
    {
     "data": {
      "text/plain": [
       "['ram',\n",
       " 'orange',\n",
       " 'orange',\n",
       " 'kiwi',\n",
       " 'kiwi',\n",
       " 'kiwi',\n",
       " 'kiwi',\n",
       " 'fig',\n",
       " 'fig',\n",
       " 'fig',\n",
       " 'fig',\n",
       " 'banana',\n",
       " 'banana',\n",
       " 'banana',\n",
       " 'apple']"
      ]
     },
     "execution_count": 280,
     "metadata": {},
     "output_type": "execute_result"
    }
   ],
   "source": [
    "lst"
   ]
  },
  {
   "cell_type": "code",
   "execution_count": 278,
   "id": "c398c6c6",
   "metadata": {},
   "outputs": [
    {
     "data": {
      "text/plain": [
       "['ram',\n",
       " 'orange',\n",
       " 'orange',\n",
       " 'kiwi',\n",
       " 'kiwi',\n",
       " 'kiwi',\n",
       " 'kiwi',\n",
       " 'fig',\n",
       " 'fig',\n",
       " 'fig',\n",
       " 'fig',\n",
       " 'banana',\n",
       " 'banana',\n",
       " 'banana',\n",
       " 'apple']"
      ]
     },
     "execution_count": 278,
     "metadata": {},
     "output_type": "execute_result"
    }
   ],
   "source": [
    "lst"
   ]
  },
  {
   "cell_type": "code",
   "execution_count": 185,
   "id": "9b823144",
   "metadata": {},
   "outputs": [],
   "source": [
    "lst =[]"
   ]
  },
  {
   "cell_type": "code",
   "execution_count": 281,
   "id": "cfae9848",
   "metadata": {},
   "outputs": [],
   "source": [
    "matrix = []\n",
    "for i in range(5):\n",
    "# Append an empty sublist inside the list\n",
    "    matrix.append([])\n",
    "    for j in range(5):\n",
    "        matrix[i].append(j)\n"
   ]
  },
  {
   "cell_type": "code",
   "execution_count": 282,
   "id": "238c7bc1",
   "metadata": {},
   "outputs": [
    {
     "data": {
      "text/plain": [
       "[[0, 1, 2, 3, 4],\n",
       " [0, 1, 2, 3, 4],\n",
       " [0, 1, 2, 3, 4],\n",
       " [0, 1, 2, 3, 4],\n",
       " [0, 1, 2, 3, 4]]"
      ]
     },
     "execution_count": 282,
     "metadata": {},
     "output_type": "execute_result"
    }
   ],
   "source": [
    "matrix"
   ]
  },
  {
   "cell_type": "code",
   "execution_count": 208,
   "id": "cc2c476b",
   "metadata": {},
   "outputs": [],
   "source": [
    "matrix = [[j for j in range(5)] for i in range(5)] "
   ]
  },
  {
   "cell_type": "code",
   "execution_count": 209,
   "id": "55810e51",
   "metadata": {},
   "outputs": [
    {
     "data": {
      "text/plain": [
       "[[0, 1, 2, 3, 4],\n",
       " [0, 1, 2, 3, 4],\n",
       " [0, 1, 2, 3, 4],\n",
       " [0, 1, 2, 3, 4],\n",
       " [0, 1, 2, 3, 4]]"
      ]
     },
     "execution_count": 209,
     "metadata": {},
     "output_type": "execute_result"
    }
   ],
   "source": [
    "matrix"
   ]
  },
  {
   "cell_type": "code",
   "execution_count": 210,
   "id": "68070a94",
   "metadata": {},
   "outputs": [],
   "source": [
    "#Python Tuple is a collection of objects separated by commas. In some ways, a tuple \n",
    "# is similar to a Python list in terms of indexing, the main difference between both is Python tuple is immutable, \n",
    "# tuple allow duplicate"
   ]
  },
  {
   "cell_type": "code",
   "execution_count": 289,
   "id": "df5d81cb",
   "metadata": {},
   "outputs": [],
   "source": [
    "tpl =('apple','orange','mango','orange','apple')"
   ]
  },
  {
   "cell_type": "code",
   "execution_count": 290,
   "id": "4760c92d",
   "metadata": {},
   "outputs": [
    {
     "data": {
      "text/plain": [
       "('apple', 'orange', 'mango', 'orange', 'apple')"
      ]
     },
     "execution_count": 290,
     "metadata": {},
     "output_type": "execute_result"
    }
   ],
   "source": [
    "tpl"
   ]
  },
  {
   "cell_type": "code",
   "execution_count": 285,
   "id": "fe80b299",
   "metadata": {},
   "outputs": [
    {
     "data": {
      "text/plain": [
       "'apple'"
      ]
     },
     "execution_count": 285,
     "metadata": {},
     "output_type": "execute_result"
    }
   ],
   "source": [
    "tpl[0]"
   ]
  },
  {
   "cell_type": "code",
   "execution_count": 286,
   "id": "cd2d84ef",
   "metadata": {},
   "outputs": [
    {
     "ename": "TypeError",
     "evalue": "'tuple' object does not support item assignment",
     "output_type": "error",
     "traceback": [
      "\u001b[1;31m---------------------------------------------------------------------------\u001b[0m",
      "\u001b[1;31mTypeError\u001b[0m                                 Traceback (most recent call last)",
      "Cell \u001b[1;32mIn[286], line 1\u001b[0m\n\u001b[1;32m----> 1\u001b[0m tpl[\u001b[38;5;241m0\u001b[39m]\u001b[38;5;241m=\u001b[39m\u001b[38;5;124m'\u001b[39m\u001b[38;5;124mtest\u001b[39m\u001b[38;5;124m'\u001b[39m\n",
      "\u001b[1;31mTypeError\u001b[0m: 'tuple' object does not support item assignment"
     ]
    }
   ],
   "source": [
    "tpl[0]='test'"
   ]
  },
  {
   "cell_type": "code",
   "execution_count": 217,
   "id": "ba762034",
   "metadata": {},
   "outputs": [
    {
     "name": "stdout",
     "output_type": "stream",
     "text": [
      "apple\n",
      "orange\n",
      "mango\n",
      "orange\n"
     ]
    }
   ],
   "source": [
    "for i in  tpl: print(i)"
   ]
  },
  {
   "cell_type": "code",
   "execution_count": 291,
   "id": "1af3c6a3",
   "metadata": {},
   "outputs": [
    {
     "data": {
      "text/plain": [
       "2"
      ]
     },
     "execution_count": 291,
     "metadata": {},
     "output_type": "execute_result"
    }
   ],
   "source": [
    "tpl.count('apple')"
   ]
  },
  {
   "cell_type": "code",
   "execution_count": 292,
   "id": "47da3576",
   "metadata": {},
   "outputs": [
    {
     "data": {
      "text/plain": [
       "0"
      ]
     },
     "execution_count": 292,
     "metadata": {},
     "output_type": "execute_result"
    }
   ],
   "source": [
    "tpl.index('apple')"
   ]
  },
  {
   "cell_type": "code",
   "execution_count": 220,
   "id": "eba25c30",
   "metadata": {},
   "outputs": [],
   "source": [
    "#A Set in Python programming is an unordered collection data type that is iterable, mutable and has no duplicate elements."
   ]
  },
  {
   "cell_type": "code",
   "execution_count": 294,
   "id": "72179f8a",
   "metadata": {},
   "outputs": [],
   "source": [
    "set ={'apple','mango','orange','fig','apple'}"
   ]
  },
  {
   "cell_type": "code",
   "execution_count": 295,
   "id": "8bca5f4b",
   "metadata": {},
   "outputs": [
    {
     "data": {
      "text/plain": [
       "{'apple', 'fig', 'mango', 'orange'}"
      ]
     },
     "execution_count": 295,
     "metadata": {},
     "output_type": "execute_result"
    }
   ],
   "source": [
    "set"
   ]
  },
  {
   "cell_type": "code",
   "execution_count": 297,
   "id": "f259878c",
   "metadata": {},
   "outputs": [
    {
     "ename": "TypeError",
     "evalue": "'set' object is not subscriptable",
     "output_type": "error",
     "traceback": [
      "\u001b[1;31m---------------------------------------------------------------------------\u001b[0m",
      "\u001b[1;31mTypeError\u001b[0m                                 Traceback (most recent call last)",
      "Cell \u001b[1;32mIn[297], line 1\u001b[0m\n\u001b[1;32m----> 1\u001b[0m \u001b[38;5;28mset\u001b[39m[\u001b[38;5;241m0\u001b[39m]\n",
      "\u001b[1;31mTypeError\u001b[0m: 'set' object is not subscriptable"
     ]
    }
   ],
   "source": [
    "set[0]"
   ]
  },
  {
   "cell_type": "code",
   "execution_count": 224,
   "id": "6e11e7a7",
   "metadata": {},
   "outputs": [
    {
     "ename": "TypeError",
     "evalue": "'set' object is not subscriptable",
     "output_type": "error",
     "traceback": [
      "\u001b[1;31m---------------------------------------------------------------------------\u001b[0m",
      "\u001b[1;31mTypeError\u001b[0m                                 Traceback (most recent call last)",
      "Cell \u001b[1;32mIn[224], line 1\u001b[0m\n\u001b[1;32m----> 1\u001b[0m \u001b[38;5;28mset\u001b[39m[\u001b[38;5;241m0\u001b[39m]\n",
      "\u001b[1;31mTypeError\u001b[0m: 'set' object is not subscriptable"
     ]
    }
   ],
   "source": [
    "set[0]"
   ]
  },
  {
   "cell_type": "code",
   "execution_count": 300,
   "id": "25f2a8a0",
   "metadata": {},
   "outputs": [],
   "source": [
    "set.add('pinaple')"
   ]
  },
  {
   "cell_type": "code",
   "execution_count": 301,
   "id": "c495d442",
   "metadata": {},
   "outputs": [
    {
     "data": {
      "text/plain": [
       "{'apple', 'fig', 'mango', 'orange', 'pinaple'}"
      ]
     },
     "execution_count": 301,
     "metadata": {},
     "output_type": "execute_result"
    }
   ],
   "source": [
    "set"
   ]
  },
  {
   "cell_type": "code",
   "execution_count": 306,
   "id": "197d2747",
   "metadata": {},
   "outputs": [
    {
     "ename": "TypeError",
     "evalue": "set.remove() takes exactly one argument (0 given)",
     "output_type": "error",
     "traceback": [
      "\u001b[1;31m---------------------------------------------------------------------------\u001b[0m",
      "\u001b[1;31mTypeError\u001b[0m                                 Traceback (most recent call last)",
      "Cell \u001b[1;32mIn[306], line 1\u001b[0m\n\u001b[1;32m----> 1\u001b[0m \u001b[38;5;28mset\u001b[39m\u001b[38;5;241m.\u001b[39mremove()\n",
      "\u001b[1;31mTypeError\u001b[0m: set.remove() takes exactly one argument (0 given)"
     ]
    }
   ],
   "source": [
    "set.remove()"
   ]
  },
  {
   "cell_type": "code",
   "execution_count": 228,
   "id": "c91ddcba",
   "metadata": {},
   "outputs": [
    {
     "data": {
      "text/plain": [
       "{'apple', 'fig', 'mango', 'orange'}"
      ]
     },
     "execution_count": 228,
     "metadata": {},
     "output_type": "execute_result"
    }
   ],
   "source": [
    "set"
   ]
  },
  {
   "cell_type": "code",
   "execution_count": 303,
   "id": "0e8c710d",
   "metadata": {},
   "outputs": [
    {
     "data": {
      "text/plain": [
       "'fig'"
      ]
     },
     "execution_count": 303,
     "metadata": {},
     "output_type": "execute_result"
    }
   ],
   "source": [
    "set.pop()"
   ]
  },
  {
   "cell_type": "code",
   "execution_count": 304,
   "id": "4afcca1e",
   "metadata": {},
   "outputs": [
    {
     "data": {
      "text/plain": [
       "'mango'"
      ]
     },
     "execution_count": 304,
     "metadata": {},
     "output_type": "execute_result"
    }
   ],
   "source": [
    "set.pop()"
   ]
  },
  {
   "cell_type": "code",
   "execution_count": 319,
   "id": "e1a446ea",
   "metadata": {},
   "outputs": [],
   "source": [
    "set1 ={'apple','mango','pinaple'}\n",
    "set2={'apple','fig','sapota','orange'}"
   ]
  },
  {
   "cell_type": "code",
   "execution_count": 309,
   "id": "cf87f7b6",
   "metadata": {},
   "outputs": [
    {
     "data": {
      "text/plain": [
       "{'apple', 'fig', 'mango', 'orange', 'pinaple', 'sapota'}"
      ]
     },
     "execution_count": 309,
     "metadata": {},
     "output_type": "execute_result"
    }
   ],
   "source": [
    "set1.union(set2)"
   ]
  },
  {
   "cell_type": "code",
   "execution_count": 310,
   "id": "8b48c738",
   "metadata": {},
   "outputs": [
    {
     "data": {
      "text/plain": [
       "{'apple', 'fig', 'mango', 'orange', 'pinaple', 'sapota'}"
      ]
     },
     "execution_count": 310,
     "metadata": {},
     "output_type": "execute_result"
    }
   ],
   "source": [
    "set1|set2"
   ]
  },
  {
   "cell_type": "code",
   "execution_count": 311,
   "id": "7c6e50d2",
   "metadata": {},
   "outputs": [
    {
     "data": {
      "text/plain": [
       "{'apple'}"
      ]
     },
     "execution_count": 311,
     "metadata": {},
     "output_type": "execute_result"
    }
   ],
   "source": [
    "set1.intersection(set2)"
   ]
  },
  {
   "cell_type": "code",
   "execution_count": 312,
   "id": "63fcf135",
   "metadata": {},
   "outputs": [
    {
     "data": {
      "text/plain": [
       "{'apple'}"
      ]
     },
     "execution_count": 312,
     "metadata": {},
     "output_type": "execute_result"
    }
   ],
   "source": [
    "set1&set2"
   ]
  },
  {
   "cell_type": "code",
   "execution_count": 313,
   "id": "e8088d07",
   "metadata": {},
   "outputs": [
    {
     "data": {
      "text/plain": [
       "{'mango', 'pinaple'}"
      ]
     },
     "execution_count": 313,
     "metadata": {},
     "output_type": "execute_result"
    }
   ],
   "source": [
    "set1.difference(set2)"
   ]
  },
  {
   "cell_type": "code",
   "execution_count": 238,
   "id": "6e27dd82",
   "metadata": {},
   "outputs": [
    {
     "data": {
      "text/plain": [
       "{'mango', 'pinaple'}"
      ]
     },
     "execution_count": 238,
     "metadata": {},
     "output_type": "execute_result"
    }
   ],
   "source": [
    "set1 -set2"
   ]
  },
  {
   "cell_type": "code",
   "execution_count": 314,
   "id": "333b258c",
   "metadata": {},
   "outputs": [],
   "source": [
    "set1.update(set2)"
   ]
  },
  {
   "cell_type": "code",
   "execution_count": 315,
   "id": "b8152f9e",
   "metadata": {},
   "outputs": [
    {
     "data": {
      "text/plain": [
       "{'apple', 'fig', 'mango', 'orange', 'pinaple', 'sapota'}"
      ]
     },
     "execution_count": 315,
     "metadata": {},
     "output_type": "execute_result"
    }
   ],
   "source": [
    "set1"
   ]
  },
  {
   "cell_type": "code",
   "execution_count": 317,
   "id": "d4ff3904",
   "metadata": {},
   "outputs": [],
   "source": [
    "set1.intersection_update(set2)"
   ]
  },
  {
   "cell_type": "code",
   "execution_count": 318,
   "id": "2cabd5db",
   "metadata": {},
   "outputs": [
    {
     "data": {
      "text/plain": [
       "{'apple'}"
      ]
     },
     "execution_count": 318,
     "metadata": {},
     "output_type": "execute_result"
    }
   ],
   "source": [
    "set1"
   ]
  },
  {
   "cell_type": "code",
   "execution_count": 245,
   "id": "4e947dd1",
   "metadata": {},
   "outputs": [],
   "source": [
    "set1 ={'apple','mango','pinaple'}\n",
    "set2={'apple','fig','sapota','orange'}"
   ]
  },
  {
   "cell_type": "code",
   "execution_count": 320,
   "id": "5cebf8a4",
   "metadata": {},
   "outputs": [],
   "source": [
    "set1.difference_update(set2)"
   ]
  },
  {
   "cell_type": "code",
   "execution_count": 321,
   "id": "4e0a0e99",
   "metadata": {},
   "outputs": [
    {
     "data": {
      "text/plain": [
       "{'mango', 'pinaple'}"
      ]
     },
     "execution_count": 321,
     "metadata": {},
     "output_type": "execute_result"
    }
   ],
   "source": [
    "set1"
   ]
  },
  {
   "cell_type": "code",
   "execution_count": 322,
   "id": "145244ce",
   "metadata": {},
   "outputs": [],
   "source": [
    "set1 ={1,2,3,4,5,6}\n",
    "set2={1,2,3}"
   ]
  },
  {
   "cell_type": "code",
   "execution_count": 325,
   "id": "bec4531d",
   "metadata": {},
   "outputs": [
    {
     "data": {
      "text/plain": [
       "False"
      ]
     },
     "execution_count": 325,
     "metadata": {},
     "output_type": "execute_result"
    }
   ],
   "source": [
    "set2.issuperset(set1)"
   ]
  },
  {
   "cell_type": "code",
   "execution_count": 326,
   "id": "f808fce9",
   "metadata": {},
   "outputs": [
    {
     "data": {
      "text/plain": [
       "True"
      ]
     },
     "execution_count": 326,
     "metadata": {},
     "output_type": "execute_result"
    }
   ],
   "source": [
    "set2.issubset(set1)"
   ]
  },
  {
   "cell_type": "code",
   "execution_count": null,
   "id": "19498b5b",
   "metadata": {},
   "outputs": [],
   "source": [
    "Dictionaries are used to store data values in key:value pairs. A dictionary is a collection which is ordered*,\n",
    "changeable and do not allow duplicates. "
   ]
  },
  {
   "cell_type": "code",
   "execution_count": 327,
   "id": "0cbbf004",
   "metadata": {},
   "outputs": [],
   "source": [
    "dic ={'name':'babjee','age':40,'city':'chennai'}"
   ]
  },
  {
   "cell_type": "code",
   "execution_count": 328,
   "id": "267df8a1",
   "metadata": {},
   "outputs": [
    {
     "data": {
      "text/plain": [
       "{'name': 'babjee', 'age': 40, 'city': 'chennai'}"
      ]
     },
     "execution_count": 328,
     "metadata": {},
     "output_type": "execute_result"
    }
   ],
   "source": [
    "dic"
   ]
  },
  {
   "cell_type": "code",
   "execution_count": 329,
   "id": "bd3e4856",
   "metadata": {},
   "outputs": [
    {
     "data": {
      "text/plain": [
       "'babjee'"
      ]
     },
     "execution_count": 329,
     "metadata": {},
     "output_type": "execute_result"
    }
   ],
   "source": [
    "dic['name']"
   ]
  },
  {
   "cell_type": "code",
   "execution_count": 330,
   "id": "35e0e877",
   "metadata": {},
   "outputs": [],
   "source": [
    "dic['name']='ram'"
   ]
  },
  {
   "cell_type": "code",
   "execution_count": 331,
   "id": "a0f3adfb",
   "metadata": {},
   "outputs": [
    {
     "data": {
      "text/plain": [
       "{'name': 'ram', 'age': 40, 'city': 'chennai'}"
      ]
     },
     "execution_count": 331,
     "metadata": {},
     "output_type": "execute_result"
    }
   ],
   "source": [
    "dic"
   ]
  },
  {
   "cell_type": "code",
   "execution_count": 337,
   "id": "b50f929c",
   "metadata": {},
   "outputs": [],
   "source": [
    "dic['email']='bajee@gmail.com'"
   ]
  },
  {
   "cell_type": "code",
   "execution_count": 338,
   "id": "2d484c9e",
   "metadata": {},
   "outputs": [
    {
     "data": {
      "text/plain": [
       "{'name': 'ram', 'age': 40, 'city': 'chennai', 'email': 'bajee@gmail.com'}"
      ]
     },
     "execution_count": 338,
     "metadata": {},
     "output_type": "execute_result"
    }
   ],
   "source": [
    "dic"
   ]
  },
  {
   "cell_type": "code",
   "execution_count": 333,
   "id": "9d56727b",
   "metadata": {},
   "outputs": [],
   "source": [
    "dic.get('email')"
   ]
  },
  {
   "cell_type": "code",
   "execution_count": 339,
   "id": "c1c43f74",
   "metadata": {},
   "outputs": [
    {
     "data": {
      "text/plain": [
       "dict_keys(['name', 'age', 'city', 'email'])"
      ]
     },
     "execution_count": 339,
     "metadata": {},
     "output_type": "execute_result"
    }
   ],
   "source": [
    "dic.keys()"
   ]
  },
  {
   "cell_type": "code",
   "execution_count": 343,
   "id": "865a7ae6",
   "metadata": {},
   "outputs": [
    {
     "name": "stdout",
     "output_type": "stream",
     "text": [
      "name : ram\n",
      "age : 40\n",
      "city : chennai\n",
      "email : bajee@gmail.com\n"
     ]
    }
   ],
   "source": [
    "for i in dic.keys():\n",
    "    print(i, ':',dic.get(i))"
   ]
  },
  {
   "cell_type": "code",
   "execution_count": 344,
   "id": "9cb6b6f1",
   "metadata": {},
   "outputs": [
    {
     "data": {
      "text/plain": [
       "dict_values(['ram', 40, 'chennai', 'bajee@gmail.com'])"
      ]
     },
     "execution_count": 344,
     "metadata": {},
     "output_type": "execute_result"
    }
   ],
   "source": [
    "dic.values()"
   ]
  },
  {
   "cell_type": "code",
   "execution_count": 345,
   "id": "89b21baa",
   "metadata": {},
   "outputs": [
    {
     "data": {
      "text/plain": [
       "dict_items([('name', 'ram'), ('age', 40), ('city', 'chennai'), ('email', 'bajee@gmail.com')])"
      ]
     },
     "execution_count": 345,
     "metadata": {},
     "output_type": "execute_result"
    }
   ],
   "source": [
    "dic.items()"
   ]
  },
  {
   "cell_type": "code",
   "execution_count": 346,
   "id": "60b407bb",
   "metadata": {},
   "outputs": [
    {
     "name": "stdout",
     "output_type": "stream",
     "text": [
      "name : ram\n",
      "age : 40\n",
      "city : chennai\n",
      "email : bajee@gmail.com\n"
     ]
    }
   ],
   "source": [
    "for k,v in dic.items():\n",
    "    print(k,':',v)"
   ]
  },
  {
   "cell_type": "code",
   "execution_count": 265,
   "id": "b45daf1b",
   "metadata": {},
   "outputs": [
    {
     "name": "stdout",
     "output_type": "stream",
     "text": [
      "name ram\n",
      "age 40\n",
      "city chennai\n",
      "email ram@gmail.com\n"
     ]
    }
   ],
   "source": [
    "for k,v in dic.items():\n",
    "    print(k,v)"
   ]
  },
  {
   "cell_type": "code",
   "execution_count": 347,
   "id": "812cdd64",
   "metadata": {},
   "outputs": [
    {
     "data": {
      "text/plain": [
       "'bajee@gmail.com'"
      ]
     },
     "execution_count": 347,
     "metadata": {},
     "output_type": "execute_result"
    }
   ],
   "source": [
    "dic.pop('email')"
   ]
  },
  {
   "cell_type": "code",
   "execution_count": 348,
   "id": "93e1cd2a",
   "metadata": {},
   "outputs": [
    {
     "data": {
      "text/plain": [
       "('city', 'chennai')"
      ]
     },
     "execution_count": 348,
     "metadata": {},
     "output_type": "execute_result"
    }
   ],
   "source": [
    "dic.popitem()"
   ]
  },
  {
   "cell_type": "code",
   "execution_count": 268,
   "id": "4822a552",
   "metadata": {},
   "outputs": [
    {
     "data": {
      "text/plain": [
       "{'name': 'ram', 'age': 40}"
      ]
     },
     "execution_count": 268,
     "metadata": {},
     "output_type": "execute_result"
    }
   ],
   "source": [
    "dic"
   ]
  },
  {
   "cell_type": "code",
   "execution_count": 270,
   "id": "8bf37546",
   "metadata": {},
   "outputs": [],
   "source": [
    "dic.update({'city':'chennai'})"
   ]
  },
  {
   "cell_type": "code",
   "execution_count": 271,
   "id": "18754284",
   "metadata": {},
   "outputs": [],
   "source": [
    "dic.update({'email':'babjee@gmail.com','phone':9841699104})"
   ]
  },
  {
   "cell_type": "code",
   "execution_count": 272,
   "id": "26715f53",
   "metadata": {},
   "outputs": [
    {
     "data": {
      "text/plain": [
       "{'name': 'ram',\n",
       " 'age': 40,\n",
       " 'city': 'chennai',\n",
       " 'email': 'babjee@gmail.com',\n",
       " 'phone': 9841699104}"
      ]
     },
     "execution_count": 272,
     "metadata": {},
     "output_type": "execute_result"
    }
   ],
   "source": [
    "dic"
   ]
  },
  {
   "cell_type": "code",
   "execution_count": 273,
   "id": "993dc584",
   "metadata": {},
   "outputs": [],
   "source": [
    "dic.update({'email':'ram@gmail.com','phone':841699104})"
   ]
  },
  {
   "cell_type": "code",
   "execution_count": 274,
   "id": "e637dd3f",
   "metadata": {},
   "outputs": [
    {
     "data": {
      "text/plain": [
       "{'name': 'ram',\n",
       " 'age': 40,\n",
       " 'city': 'chennai',\n",
       " 'email': 'ram@gmail.com',\n",
       " 'phone': 841699104}"
      ]
     },
     "execution_count": 274,
     "metadata": {},
     "output_type": "execute_result"
    }
   ],
   "source": [
    "dic"
   ]
  },
  {
   "cell_type": "code",
   "execution_count": 275,
   "id": "62999073",
   "metadata": {},
   "outputs": [],
   "source": [
    "dic={}"
   ]
  },
  {
   "cell_type": "code",
   "execution_count": 349,
   "id": "361666fc",
   "metadata": {},
   "outputs": [
    {
     "name": "stdout",
     "output_type": "stream",
     "text": [
      "{'key1': 0, 'key2': 0, 'key3': 0}\n"
     ]
    }
   ],
   "source": [
    "x = ('key1', 'key2', 'key3')\n",
    "y = 0\n",
    "\n",
    "thisdict = dict.fromkeys(x, y)\n",
    "\n",
    "print(thisdict)"
   ]
  },
  {
   "cell_type": "code",
   "execution_count": 285,
   "id": "2899b2c8",
   "metadata": {},
   "outputs": [
    {
     "data": {
      "text/plain": [
       "{}"
      ]
     },
     "execution_count": 285,
     "metadata": {},
     "output_type": "execute_result"
    }
   ],
   "source": [
    "dic"
   ]
  },
  {
   "cell_type": "code",
   "execution_count": 351,
   "id": "3a1fcb18",
   "metadata": {},
   "outputs": [],
   "source": [
    "people = {1: {'name': 'John', 'age': '27', 'sex': 'Male'},\n",
    "          2: {'name': 'Marie', 'age': '22', 'sex': 'Female'}}"
   ]
  },
  {
   "cell_type": "code",
   "execution_count": 352,
   "id": "909a2a0a",
   "metadata": {},
   "outputs": [
    {
     "data": {
      "text/plain": [
       "{1: {'name': 'John', 'age': '27', 'sex': 'Male'},\n",
       " 2: {'name': 'Marie', 'age': '22', 'sex': 'Female'}}"
      ]
     },
     "execution_count": 352,
     "metadata": {},
     "output_type": "execute_result"
    }
   ],
   "source": [
    "people"
   ]
  },
  {
   "cell_type": "code",
   "execution_count": 353,
   "id": "b5d61770",
   "metadata": {},
   "outputs": [
    {
     "data": {
      "text/plain": [
       "{'name': 'John', 'age': '27', 'sex': 'Male'}"
      ]
     },
     "execution_count": 353,
     "metadata": {},
     "output_type": "execute_result"
    }
   ],
   "source": [
    "people[1]"
   ]
  },
  {
   "cell_type": "code",
   "execution_count": 354,
   "id": "2fe1ea73",
   "metadata": {},
   "outputs": [
    {
     "name": "stdout",
     "output_type": "stream",
     "text": [
      "John\n",
      "27\n",
      "Male\n"
     ]
    }
   ],
   "source": [
    "print(people[1]['name'])\n",
    "print(people[1]['age'])\n",
    "print(people[1]['sex'])\n"
   ]
  },
  {
   "cell_type": "code",
   "execution_count": 293,
   "id": "9124c9c3",
   "metadata": {},
   "outputs": [],
   "source": [
    "people[1]['name']='sham'"
   ]
  },
  {
   "cell_type": "code",
   "execution_count": 362,
   "id": "c897f651",
   "metadata": {},
   "outputs": [
    {
     "data": {
      "text/plain": [
       "{1: {'name': 'John', 'age': '27', 'sex': 'Male'},\n",
       " 2: {'name': 'Marie', 'age': '22', 'sex': 'Female'},\n",
       " 3: {'name': 'Luna', 'age': '24', 'sex': 'Female', 'married': 'No'}}"
      ]
     },
     "execution_count": 362,
     "metadata": {},
     "output_type": "execute_result"
    }
   ],
   "source": [
    "people"
   ]
  },
  {
   "cell_type": "code",
   "execution_count": 361,
   "id": "9512cf15",
   "metadata": {},
   "outputs": [],
   "source": [
    "\n",
    "\n",
    "people[3]['name'] = 'Luna'\n",
    "people[3]['age'] = '24'\n",
    "people[3]['sex'] = 'Female'\n",
    "people[3]['married'] = 'No'"
   ]
  },
  {
   "cell_type": "code",
   "execution_count": 298,
   "id": "19b9d142",
   "metadata": {},
   "outputs": [
    {
     "data": {
      "text/plain": [
       "{'name': 'Luna', 'age': '24', 'sex': 'Female', 'married': 'No'}"
      ]
     },
     "execution_count": 298,
     "metadata": {},
     "output_type": "execute_result"
    }
   ],
   "source": [
    "people[3]"
   ]
  },
  {
   "cell_type": "code",
   "execution_count": 300,
   "id": "fe3e34eb",
   "metadata": {},
   "outputs": [],
   "source": [
    "del people[3]['married']"
   ]
  },
  {
   "cell_type": "code",
   "execution_count": 364,
   "id": "84d8b030",
   "metadata": {},
   "outputs": [
    {
     "data": {
      "text/plain": [
       "{1: {'name': 'John', 'age': '27', 'sex': 'Male'},\n",
       " 2: {'name': 'Marie', 'age': '22', 'sex': 'Female'},\n",
       " 3: {'name': 'Luna', 'age': '24', 'sex': 'Female', 'married': 'No'},\n",
       " 4: {'name': 'Peter', 'age': '29', 'sex': 'Male', 'married': 'Yes'}}"
      ]
     },
     "execution_count": 364,
     "metadata": {},
     "output_type": "execute_result"
    }
   ],
   "source": [
    "people"
   ]
  },
  {
   "cell_type": "code",
   "execution_count": 301,
   "id": "a7796f80",
   "metadata": {},
   "outputs": [
    {
     "data": {
      "text/plain": [
       "{'name': 'Luna', 'age': '24', 'sex': 'Female'}"
      ]
     },
     "execution_count": 301,
     "metadata": {},
     "output_type": "execute_result"
    }
   ],
   "source": [
    "people[3]"
   ]
  },
  {
   "cell_type": "code",
   "execution_count": 302,
   "id": "e015814e",
   "metadata": {},
   "outputs": [],
   "source": [
    "del people[3]"
   ]
  },
  {
   "cell_type": "code",
   "execution_count": 303,
   "id": "4208c51c",
   "metadata": {},
   "outputs": [
    {
     "data": {
      "text/plain": [
       "{1: {'name': 'sham', 'age': '27', 'sex': 'Male'},\n",
       " 2: {'name': 'Marie', 'age': '22', 'sex': 'Female'},\n",
       " 4: {'name': 'Peter', 'age': '29', 'sex': 'Male', 'married': 'Yes'}}"
      ]
     },
     "execution_count": 303,
     "metadata": {},
     "output_type": "execute_result"
    }
   ],
   "source": [
    "people"
   ]
  },
  {
   "cell_type": "code",
   "execution_count": 365,
   "id": "dcc270e0",
   "metadata": {},
   "outputs": [
    {
     "name": "stdout",
     "output_type": "stream",
     "text": [
      "\n",
      "Person ID: 1\n",
      "name: John\n",
      "age: 27\n",
      "sex: Male\n",
      "\n",
      "Person ID: 2\n",
      "name: Marie\n",
      "age: 22\n",
      "sex: Female\n",
      "\n",
      "Person ID: 3\n",
      "name: Luna\n",
      "age: 24\n",
      "sex: Female\n",
      "married: No\n",
      "\n",
      "Person ID: 4\n",
      "name: Peter\n",
      "age: 29\n",
      "sex: Male\n",
      "married: Yes\n"
     ]
    }
   ],
   "source": [
    "for p_id, p_info in people.items():\n",
    "    print(\"\\nPerson ID:\", p_id)\n",
    "    \n",
    "    for key in p_info:\n",
    "        print(key + ':', p_info[key])"
   ]
  },
  {
   "cell_type": "code",
   "execution_count": null,
   "id": "f087afa6",
   "metadata": {},
   "outputs": [],
   "source": [
    "# arithmetic operators in Python\n",
    "Addition (+)\n",
    "Subtraction (-)\n",
    "Multiplication (*)\n",
    "Division (/)\n",
    "Modulus (%)\n",
    "Exponentiation (**)\n",
    "Floor Division (//)"
   ]
  },
  {
   "cell_type": "code",
   "execution_count": 309,
   "id": "6624a157",
   "metadata": {},
   "outputs": [
    {
     "data": {
      "text/plain": [
       "30"
      ]
     },
     "execution_count": 309,
     "metadata": {},
     "output_type": "execute_result"
    }
   ],
   "source": [
    "10+20"
   ]
  },
  {
   "cell_type": "code",
   "execution_count": 310,
   "id": "81a73a50",
   "metadata": {},
   "outputs": [
    {
     "data": {
      "text/plain": [
       "10"
      ]
     },
     "execution_count": 310,
     "metadata": {},
     "output_type": "execute_result"
    }
   ],
   "source": [
    "20-10"
   ]
  },
  {
   "cell_type": "code",
   "execution_count": 311,
   "id": "6509594b",
   "metadata": {},
   "outputs": [
    {
     "data": {
      "text/plain": [
       "200"
      ]
     },
     "execution_count": 311,
     "metadata": {},
     "output_type": "execute_result"
    }
   ],
   "source": [
    "10 *20"
   ]
  },
  {
   "cell_type": "code",
   "execution_count": 1,
   "id": "d797e098",
   "metadata": {},
   "outputs": [
    {
     "data": {
      "text/plain": [
       "3.3333333333333335"
      ]
     },
     "execution_count": 1,
     "metadata": {},
     "output_type": "execute_result"
    }
   ],
   "source": [
    "10/3"
   ]
  },
  {
   "cell_type": "code",
   "execution_count": 2,
   "id": "9cb9710d",
   "metadata": {},
   "outputs": [
    {
     "data": {
      "text/plain": [
       "3"
      ]
     },
     "execution_count": 2,
     "metadata": {},
     "output_type": "execute_result"
    }
   ],
   "source": [
    "10//3\n"
   ]
  },
  {
   "cell_type": "code",
   "execution_count": 315,
   "id": "f730dcda",
   "metadata": {},
   "outputs": [
    {
     "data": {
      "text/plain": [
       "0"
      ]
     },
     "execution_count": 315,
     "metadata": {},
     "output_type": "execute_result"
    }
   ],
   "source": [
    "10%2"
   ]
  },
  {
   "cell_type": "code",
   "execution_count": 316,
   "id": "70bd0de9",
   "metadata": {},
   "outputs": [
    {
     "data": {
      "text/plain": [
       "100"
      ]
     },
     "execution_count": 316,
     "metadata": {},
     "output_type": "execute_result"
    }
   ],
   "source": [
    "10**2"
   ]
  },
  {
   "cell_type": "code",
   "execution_count": null,
   "id": "541a68c7",
   "metadata": {},
   "outputs": [],
   "source": [
    "Equal to ==\n",
    "Not equal to !=\n",
    "Greater than >\n",
    "Less than <\n",
    "Greater than or equal to >=\n",
    "Less than or equal to <="
   ]
  },
  {
   "cell_type": "code",
   "execution_count": 317,
   "id": "d239846f",
   "metadata": {},
   "outputs": [
    {
     "data": {
      "text/plain": [
       "True"
      ]
     },
     "execution_count": 317,
     "metadata": {},
     "output_type": "execute_result"
    }
   ],
   "source": [
    "10==10"
   ]
  },
  {
   "cell_type": "code",
   "execution_count": 318,
   "id": "6b99051b",
   "metadata": {},
   "outputs": [
    {
     "data": {
      "text/plain": [
       "True"
      ]
     },
     "execution_count": 318,
     "metadata": {},
     "output_type": "execute_result"
    }
   ],
   "source": [
    "10 !=20"
   ]
  },
  {
   "cell_type": "code",
   "execution_count": 319,
   "id": "65e87ada",
   "metadata": {},
   "outputs": [
    {
     "data": {
      "text/plain": [
       "True"
      ]
     },
     "execution_count": 319,
     "metadata": {},
     "output_type": "execute_result"
    }
   ],
   "source": [
    "10 >5"
   ]
  },
  {
   "cell_type": "code",
   "execution_count": 320,
   "id": "ac5a82de",
   "metadata": {},
   "outputs": [
    {
     "data": {
      "text/plain": [
       "True"
      ]
     },
     "execution_count": 320,
     "metadata": {},
     "output_type": "execute_result"
    }
   ],
   "source": [
    "10 >=10"
   ]
  },
  {
   "cell_type": "code",
   "execution_count": 322,
   "id": "0da3cb23",
   "metadata": {},
   "outputs": [
    {
     "data": {
      "text/plain": [
       "True"
      ]
     },
     "execution_count": 322,
     "metadata": {},
     "output_type": "execute_result"
    }
   ],
   "source": [
    "10 <20"
   ]
  },
  {
   "cell_type": "code",
   "execution_count": 323,
   "id": "1a39c7d6",
   "metadata": {},
   "outputs": [
    {
     "data": {
      "text/plain": [
       "True"
      ]
     },
     "execution_count": 323,
     "metadata": {},
     "output_type": "execute_result"
    }
   ],
   "source": [
    "10 <=10"
   ]
  },
  {
   "cell_type": "code",
   "execution_count": null,
   "id": "52b04f49",
   "metadata": {},
   "outputs": [],
   "source": [
    "= equals\n",
    "+= adition equals\n",
    "-= subtraction equals\n",
    "*= multiplay equal\n",
    "/= division equlas\n",
    "//= floor division equals\n",
    "**/ exponet equal\n",
    "%/= modules equals"
   ]
  },
  {
   "cell_type": "code",
   "execution_count": 3,
   "id": "dfb3d6c9",
   "metadata": {},
   "outputs": [],
   "source": [
    "a=10"
   ]
  },
  {
   "cell_type": "code",
   "execution_count": 4,
   "id": "4334e302",
   "metadata": {},
   "outputs": [
    {
     "name": "stdout",
     "output_type": "stream",
     "text": [
      "20\n"
     ]
    }
   ],
   "source": [
    "a+=10\n",
    "print(a)"
   ]
  },
  {
   "cell_type": "code",
   "execution_count": 5,
   "id": "d606ef38",
   "metadata": {},
   "outputs": [
    {
     "name": "stdout",
     "output_type": "stream",
     "text": [
      "10\n"
     ]
    }
   ],
   "source": [
    "a-=10\n",
    "print(a)"
   ]
  },
  {
   "cell_type": "code",
   "execution_count": 6,
   "id": "6cf9776c",
   "metadata": {},
   "outputs": [
    {
     "name": "stdout",
     "output_type": "stream",
     "text": [
      "100\n"
     ]
    }
   ],
   "source": [
    "a*=10\n",
    "print(a)"
   ]
  },
  {
   "cell_type": "code",
   "execution_count": 7,
   "id": "fbf93c8a",
   "metadata": {},
   "outputs": [
    {
     "name": "stdout",
     "output_type": "stream",
     "text": [
      "3.3333333333333335\n"
     ]
    }
   ],
   "source": [
    "a=10\n",
    "a /=3\n",
    "print(a)"
   ]
  },
  {
   "cell_type": "code",
   "execution_count": 8,
   "id": "b50f314a",
   "metadata": {},
   "outputs": [
    {
     "name": "stdout",
     "output_type": "stream",
     "text": [
      "3\n"
     ]
    }
   ],
   "source": [
    "a=10\n",
    "a//=3\n",
    "print(a)"
   ]
  },
  {
   "cell_type": "code",
   "execution_count": 9,
   "id": "9f8d90c2",
   "metadata": {},
   "outputs": [
    {
     "name": "stdout",
     "output_type": "stream",
     "text": [
      "1\n"
     ]
    }
   ],
   "source": [
    "a%=2\n",
    "print(a)"
   ]
  },
  {
   "cell_type": "code",
   "execution_count": null,
   "id": "e80b4f3e",
   "metadata": {},
   "outputs": [],
   "source": [
    "#logical operatos\n",
    "and\n",
    "or\n",
    "not"
   ]
  },
  {
   "cell_type": "code",
   "execution_count": 337,
   "id": "f592d550",
   "metadata": {},
   "outputs": [
    {
     "name": "stdout",
     "output_type": "stream",
     "text": [
      "True\n"
     ]
    }
   ],
   "source": [
    "x = 5\n",
    "\n",
    "print(x > 3 and x < 10)\n"
   ]
  },
  {
   "cell_type": "code",
   "execution_count": 338,
   "id": "3f15cdd9",
   "metadata": {},
   "outputs": [
    {
     "name": "stdout",
     "output_type": "stream",
     "text": [
      "True\n"
     ]
    }
   ],
   "source": [
    "x = 5\n",
    "\n",
    "print(x > 3 or x < 4)\n"
   ]
  },
  {
   "cell_type": "code",
   "execution_count": 10,
   "id": "0e79c2e0",
   "metadata": {},
   "outputs": [
    {
     "name": "stdout",
     "output_type": "stream",
     "text": [
      "False\n"
     ]
    }
   ],
   "source": [
    "x = 5\n",
    "\n",
    "print(not(x > 3 and x < 10))\n"
   ]
  },
  {
   "cell_type": "code",
   "execution_count": null,
   "id": "00db1c51",
   "metadata": {},
   "outputs": [],
   "source": [
    "#identity operatos\n",
    "is Returns true if both variables are the same object\n",
    "is not Returns true if both variables are not the same object"
   ]
  },
  {
   "cell_type": "code",
   "execution_count": 12,
   "id": "ecf3e5c7",
   "metadata": {},
   "outputs": [
    {
     "name": "stdout",
     "output_type": "stream",
     "text": [
      "False\n"
     ]
    }
   ],
   "source": [
    "x = [\"apple\", \"banana\"]\n",
    "y = [\"apple\", \"banana\"]\n",
    "z = x\n",
    "\n",
    "print(x is y)"
   ]
  },
  {
   "cell_type": "code",
   "execution_count": 18,
   "id": "69b21b79",
   "metadata": {},
   "outputs": [
    {
     "name": "stdout",
     "output_type": "stream",
     "text": [
      "False\n"
     ]
    }
   ],
   "source": [
    "print(x is not x)"
   ]
  },
  {
   "cell_type": "code",
   "execution_count": 341,
   "id": "e066ab7a",
   "metadata": {},
   "outputs": [
    {
     "name": "stdout",
     "output_type": "stream",
     "text": [
      "False\n"
     ]
    }
   ],
   "source": [
    "print(x is y #returns False because x is not the same object as y, even if they have the same content\n"
   ]
  },
  {
   "cell_type": "code",
   "execution_count": 342,
   "id": "4cb03c2a",
   "metadata": {},
   "outputs": [
    {
     "name": "stdout",
     "output_type": "stream",
     "text": [
      "True\n"
     ]
    }
   ],
   "source": [
    "print(x == y)"
   ]
  },
  {
   "cell_type": "code",
   "execution_count": 343,
   "id": "93da0280",
   "metadata": {},
   "outputs": [
    {
     "data": {
      "text/plain": [
       "2618093969792"
      ]
     },
     "execution_count": 343,
     "metadata": {},
     "output_type": "execute_result"
    }
   ],
   "source": [
    "id(x)"
   ]
  },
  {
   "cell_type": "code",
   "execution_count": 344,
   "id": "bfe9fb69",
   "metadata": {},
   "outputs": [
    {
     "data": {
      "text/plain": [
       "2618093969792"
      ]
     },
     "execution_count": 344,
     "metadata": {},
     "output_type": "execute_result"
    }
   ],
   "source": [
    "id(z)"
   ]
  },
  {
   "cell_type": "code",
   "execution_count": 345,
   "id": "7cecb3b6",
   "metadata": {},
   "outputs": [
    {
     "data": {
      "text/plain": [
       "2618082990208"
      ]
     },
     "execution_count": 345,
     "metadata": {},
     "output_type": "execute_result"
    }
   ],
   "source": [
    "id(y)"
   ]
  },
  {
   "cell_type": "code",
   "execution_count": null,
   "id": "133b5e6e",
   "metadata": {},
   "outputs": [],
   "source": [
    "#membership operators\n",
    "in \tReturns True if a sequence with the specified value is present in the object\n",
    "not in\tReturns True if a sequence with the specified value is not present in the object"
   ]
  },
  {
   "cell_type": "code",
   "execution_count": 346,
   "id": "ec9e76be",
   "metadata": {},
   "outputs": [
    {
     "name": "stdout",
     "output_type": "stream",
     "text": [
      "True\n"
     ]
    }
   ],
   "source": [
    "x = [\"apple\", \"banana\"]\n",
    "\n",
    "print(\"banana\" in x)"
   ]
  },
  {
   "cell_type": "code",
   "execution_count": 347,
   "id": "91dff844",
   "metadata": {},
   "outputs": [
    {
     "name": "stdout",
     "output_type": "stream",
     "text": [
      "False\n"
     ]
    }
   ],
   "source": [
    "x = [\"apple\", \"banana\"]\n",
    "\n",
    "print(\"banana\" not in x)"
   ]
  },
  {
   "cell_type": "code",
   "execution_count": null,
   "id": "27971d5c",
   "metadata": {},
   "outputs": [],
   "source": [
    "Bit wise operatos\n",
    "& \tAND\tSe+ts each bit to 1 if both bits are 1\n",
    "|\tOR\tSets each bit to 1 if one of two bits is 1\n",
    " ^\tXOR\tSets each bit to 1 if only one of two bits is 1\n",
    "~ \tNOT\tInverts all the bits\n",
    "<<\tZero fill left shift\tShift left by pushing zeros in from the right and let the leftmost bits fall off\n",
    ">>\tSigned right shift\tShift right by pushing copies of the leftmost bit in from the left, and let the rightmost bits fall off"
   ]
  },
  {
   "cell_type": "code",
   "execution_count": 348,
   "id": "ce3e51ba",
   "metadata": {},
   "outputs": [
    {
     "data": {
      "text/plain": [
       "0"
      ]
     },
     "execution_count": 348,
     "metadata": {},
     "output_type": "execute_result"
    }
   ],
   "source": [
    "10 & 4   1010\n",
    "         0101\n",
    "         0000"
   ]
  },
  {
   "cell_type": "code",
   "execution_count": 349,
   "id": "38c65ede",
   "metadata": {},
   "outputs": [
    {
     "data": {
      "text/plain": [
       "14"
      ]
     },
     "execution_count": 349,
     "metadata": {},
     "output_type": "execute_result"
    }
   ],
   "source": [
    "10 |4   1010\n",
    "        0100\n",
    "        1110    8+4+2+0  "
   ]
  },
  {
   "cell_type": "code",
   "execution_count": 352,
   "id": "295e7d5f",
   "metadata": {},
   "outputs": [
    {
     "data": {
      "text/plain": [
       "2"
      ]
     },
     "execution_count": 352,
     "metadata": {},
     "output_type": "execute_result"
    }
   ],
   "source": [
    "10 ^ 8    1010\n",
    "          1000\n",
    "          0010   0+0+2+0 =2"
   ]
  },
  {
   "cell_type": "code",
   "execution_count": 359,
   "id": "860d4e64",
   "metadata": {},
   "outputs": [
    {
     "data": {
      "text/plain": [
       "-11"
      ]
     },
     "execution_count": 359,
     "metadata": {},
     "output_type": "execute_result"
    }
   ],
   "source": [
    "a=10    1010\n",
    "~a       01001"
   ]
  },
  {
   "cell_type": "code",
   "execution_count": 360,
   "id": "03cd80b7",
   "metadata": {},
   "outputs": [
    {
     "data": {
      "text/plain": [
       "40"
      ]
     },
     "execution_count": 360,
     "metadata": {},
     "output_type": "execute_result"
    }
   ],
   "source": [
    "10 <<2   # 001010  --- 101000"
   ]
  },
  {
   "cell_type": "code",
   "execution_count": 21,
   "id": "a883f16d",
   "metadata": {},
   "outputs": [
    {
     "data": {
      "text/plain": [
       "40"
      ]
     },
     "execution_count": 21,
     "metadata": {},
     "output_type": "execute_result"
    }
   ],
   "source": [
    "10 <<2   101000 \n"
   ]
  },
  {
   "cell_type": "code",
   "execution_count": 23,
   "id": "9915b971",
   "metadata": {},
   "outputs": [
    {
     "name": "stdout",
     "output_type": "stream",
     "text": [
      "Enter your age10\n",
      "Good Bye\n"
     ]
    }
   ],
   "source": [
    "age =int(input('Enter your age'))\n",
    "if age>=18:\n",
    "    print('You are Eligible for vote')\n",
    "print('Good Bye')"
   ]
  },
  {
   "cell_type": "code",
   "execution_count": 25,
   "id": "505e6034",
   "metadata": {},
   "outputs": [
    {
     "name": "stdout",
     "output_type": "stream",
     "text": [
      "Enter your age20\n",
      "You are Eligible for vote\n",
      "Good Bye\n"
     ]
    }
   ],
   "source": [
    "age =int(input('Enter your age'))\n",
    "if age>=18:\n",
    "    print('You are Eligible for vote')\n",
    "else:\n",
    "    print('You are not Eligible for vote')\n",
    "print('Good Bye')"
   ]
  },
  {
   "cell_type": "code",
   "execution_count": 367,
   "id": "01c3f2c9",
   "metadata": {},
   "outputs": [
    {
     "name": "stdout",
     "output_type": "stream",
     "text": [
      "Enter the Amount11000\n",
      "Total Amount 11000\n",
      "Discount     2750.0\n",
      "Net Amount   8250.0\n"
     ]
    }
   ],
   "source": [
    "amt =int(input('Enter the Amount'))\n",
    "if amt >10000:\n",
    "    discount = amt*.25\n",
    "elif amt >5000:\n",
    "    discount =amt *.15\n",
    "elif amt >3000:\n",
    "    discount =amt *.1\n",
    "else:\n",
    "    discount =amt * 0.05\n",
    "netamt=amt-discount\n",
    "print('Total Amount',amt)\n",
    "print('Discount    ',discount)\n",
    "print('Net Amount  ', netamt)\n"
   ]
  },
  {
   "cell_type": "code",
   "execution_count": 370,
   "id": "67dec83d",
   "metadata": {},
   "outputs": [
    {
     "name": "stdout",
     "output_type": "stream",
     "text": [
      "Enter the Amount40\n",
      "below 50\n"
     ]
    }
   ],
   "source": [
    "amt =int(input('Enter the Amount'))\n",
    "if amt >= 50:\n",
    "    print('above 50')\n",
    "    if amt >100:\n",
    "        print('and also above 100')\n",
    "    else:\n",
    "        print('But not above 100')\n",
    "else:\n",
    "    print('below 50')"
   ]
  },
  {
   "cell_type": "markdown",
   "id": "003d513d",
   "metadata": {},
   "source": [
    "# for i in :\n",
    "    print(i)"
   ]
  },
  {
   "cell_type": "code",
   "execution_count": 33,
   "id": "43cce2a6",
   "metadata": {},
   "outputs": [
    {
     "name": "stdout",
     "output_type": "stream",
     "text": [
      "NAME RAM\n",
      "AGE 40\n",
      "CITY CHENNAI\n"
     ]
    }
   ],
   "source": [
    "dic ={'NAME':'RAM','AGE':40,'CITY':'CHENNAI'}\n",
    "for k,v in dic.items():\n",
    "    print(k,v)"
   ]
  },
  {
   "cell_type": "code",
   "execution_count": 34,
   "id": "3d00774a",
   "metadata": {},
   "outputs": [
    {
     "name": "stdout",
     "output_type": "stream",
     "text": [
      "0\n",
      "1\n",
      "2\n",
      "3\n",
      "4\n"
     ]
    }
   ],
   "source": [
    "for i in range(10):\n",
    "    if i==5:\n",
    "      break\n",
    "    print(i)\n",
    "    "
   ]
  },
  {
   "cell_type": "code",
   "execution_count": 35,
   "id": "36857171",
   "metadata": {},
   "outputs": [
    {
     "name": "stdout",
     "output_type": "stream",
     "text": [
      "0\n",
      "1\n",
      "2\n",
      "3\n",
      "4\n",
      "6\n",
      "7\n",
      "8\n",
      "9\n"
     ]
    }
   ],
   "source": [
    "for i in range(10):\n",
    "    if i==5:\n",
    "      continue\n",
    "    print(i)"
   ]
  },
  {
   "cell_type": "code",
   "execution_count": 378,
   "id": "ab6aa8fd",
   "metadata": {},
   "outputs": [
    {
     "name": "stdout",
     "output_type": "stream",
     "text": [
      "0\n",
      "2\n",
      "4\n",
      "6\n",
      "8\n"
     ]
    }
   ],
   "source": [
    "for i in range(10):\n",
    "    if i%2==1:\n",
    "      continue\n",
    "    print(i)"
   ]
  },
  {
   "cell_type": "code",
   "execution_count": 36,
   "id": "ea902380",
   "metadata": {},
   "outputs": [
    {
     "name": "stdout",
     "output_type": "stream",
     "text": [
      "babjeereddy"
     ]
    }
   ],
   "source": [
    "for i in 'babjee reddy':\n",
    "    if i==' ':\n",
    "        continue\n",
    "    print(i,end='')"
   ]
  },
  {
   "cell_type": "code",
   "execution_count": 383,
   "id": "92873964",
   "metadata": {},
   "outputs": [
    {
     "name": "stdout",
     "output_type": "stream",
     "text": [
      "Outer Loop 0\n",
      "      Inner Loop 0\n",
      "      Inner Loop 1\n",
      "      Inner Loop 2\n",
      "      Inner Loop 3\n",
      "      Inner Loop 4\n",
      "Outer Loop 1\n",
      "      Inner Loop 0\n",
      "      Inner Loop 1\n",
      "      Inner Loop 2\n",
      "      Inner Loop 3\n",
      "      Inner Loop 4\n",
      "Outer Loop 2\n",
      "      Inner Loop 0\n",
      "      Inner Loop 1\n",
      "      Inner Loop 2\n",
      "      Inner Loop 3\n",
      "      Inner Loop 4\n",
      "Outer Loop 3\n",
      "      Inner Loop 0\n",
      "      Inner Loop 1\n",
      "      Inner Loop 2\n",
      "      Inner Loop 3\n",
      "      Inner Loop 4\n",
      "Outer Loop 4\n",
      "      Inner Loop 0\n",
      "      Inner Loop 1\n",
      "      Inner Loop 2\n",
      "      Inner Loop 3\n",
      "      Inner Loop 4\n"
     ]
    }
   ],
   "source": [
    "for i in range(5):\n",
    "    print('Outer Loop',i)\n",
    "    for j in range(5):\n",
    "        print('      Inner Loop',j)"
   ]
  },
  {
   "cell_type": "code",
   "execution_count": 388,
   "id": "1fe5714a",
   "metadata": {},
   "outputs": [
    {
     "name": "stdout",
     "output_type": "stream",
     "text": [
      "10\n",
      "9\n",
      "8\n",
      "7\n",
      "6\n",
      "5\n",
      "4\n",
      "3\n",
      "2\n",
      "1\n",
      "0\n"
     ]
    }
   ],
   "source": [
    "for i in range(10,-1,-1):\n",
    "    print(i)"
   ]
  },
  {
   "cell_type": "code",
   "execution_count": 391,
   "id": "0843fb9c",
   "metadata": {},
   "outputs": [
    {
     "name": "stdout",
     "output_type": "stream",
     "text": [
      "10\n",
      "9\n",
      "8\n",
      "7\n",
      "6\n",
      "5\n",
      "4\n",
      "3\n",
      "2\n",
      "1\n",
      "0\n"
     ]
    }
   ],
   "source": [
    "for i in reversed(range(11)):print(i)"
   ]
  },
  {
   "cell_type": "code",
   "execution_count": 392,
   "id": "69bb9ecd",
   "metadata": {},
   "outputs": [
    {
     "name": "stdout",
     "output_type": "stream",
     "text": [
      "\n",
      "* \n",
      "* * \n",
      "* * * \n",
      "* * * * \n",
      "* * * * * \n",
      "* * * * * * \n",
      "* * * * * * * \n",
      "* * * * * * * * \n",
      "* * * * * * * * * \n"
     ]
    }
   ],
   "source": [
    "for i in range(10):\n",
    "    for j in range(i):\n",
    "        print('*', end=' ')\n",
    "    print()"
   ]
  },
  {
   "cell_type": "code",
   "execution_count": 393,
   "id": "775c2ef1",
   "metadata": {},
   "outputs": [
    {
     "name": "stdout",
     "output_type": "stream",
     "text": [
      "* * * * * * * * * * \n",
      "* * * * * * * * * \n",
      "* * * * * * * * \n",
      "* * * * * * * \n",
      "* * * * * * \n",
      "* * * * * \n",
      "* * * * \n",
      "* * * \n",
      "* * \n",
      "* \n",
      "\n"
     ]
    }
   ],
   "source": [
    "for i in range(10,-1,-1):\n",
    "    for j in range(i):\n",
    "        print('*', end=' ')\n",
    "    print()"
   ]
  },
  {
   "cell_type": "code",
   "execution_count": 394,
   "id": "e547d05b",
   "metadata": {},
   "outputs": [
    {
     "name": "stdout",
     "output_type": "stream",
     "text": [
      "0\n",
      "1\n",
      "2\n",
      "3\n",
      "4\n"
     ]
    }
   ],
   "source": [
    "i = 0\n",
    "while i < 5:\n",
    "    print(i)\n",
    "    i += 1"
   ]
  },
  {
   "cell_type": "code",
   "execution_count": 396,
   "id": "804ff990",
   "metadata": {},
   "outputs": [
    {
     "name": "stdout",
     "output_type": "stream",
     "text": [
      "1 * 1 = 1\n",
      "1 * 2 = 2\n",
      "1 * 3 = 3\n",
      "1 * 4 = 4\n",
      "1 * 5 = 5\n",
      "1 * 6 = 6\n",
      "1 * 7 = 7\n",
      "1 * 8 = 8\n",
      "1 * 9 = 9\n",
      "1 * 10 = 10\n",
      "\n",
      "2 * 1 = 2\n",
      "2 * 2 = 4\n",
      "2 * 3 = 6\n",
      "2 * 4 = 8\n",
      "2 * 5 = 10\n",
      "2 * 6 = 12\n",
      "2 * 7 = 14\n",
      "2 * 8 = 16\n",
      "2 * 9 = 18\n",
      "2 * 10 = 20\n",
      "\n",
      "3 * 1 = 3\n",
      "3 * 2 = 6\n",
      "3 * 3 = 9\n",
      "3 * 4 = 12\n",
      "3 * 5 = 15\n",
      "3 * 6 = 18\n",
      "3 * 7 = 21\n",
      "3 * 8 = 24\n",
      "3 * 9 = 27\n",
      "3 * 10 = 30\n",
      "\n",
      "4 * 1 = 4\n",
      "4 * 2 = 8\n",
      "4 * 3 = 12\n",
      "4 * 4 = 16\n",
      "4 * 5 = 20\n",
      "4 * 6 = 24\n",
      "4 * 7 = 28\n",
      "4 * 8 = 32\n",
      "4 * 9 = 36\n",
      "4 * 10 = 40\n",
      "\n",
      "5 * 1 = 5\n",
      "5 * 2 = 10\n",
      "5 * 3 = 15\n",
      "5 * 4 = 20\n",
      "5 * 5 = 25\n",
      "5 * 6 = 30\n",
      "5 * 7 = 35\n",
      "5 * 8 = 40\n",
      "5 * 9 = 45\n",
      "5 * 10 = 50\n",
      "\n",
      "6 * 1 = 6\n",
      "6 * 2 = 12\n",
      "6 * 3 = 18\n",
      "6 * 4 = 24\n",
      "6 * 5 = 30\n",
      "6 * 6 = 36\n",
      "6 * 7 = 42\n",
      "6 * 8 = 48\n",
      "6 * 9 = 54\n",
      "6 * 10 = 60\n",
      "\n",
      "7 * 1 = 7\n",
      "7 * 2 = 14\n",
      "7 * 3 = 21\n",
      "7 * 4 = 28\n",
      "7 * 5 = 35\n",
      "7 * 6 = 42\n",
      "7 * 7 = 49\n",
      "7 * 8 = 56\n",
      "7 * 9 = 63\n",
      "7 * 10 = 70\n",
      "\n",
      "8 * 1 = 8\n",
      "8 * 2 = 16\n",
      "8 * 3 = 24\n",
      "8 * 4 = 32\n",
      "8 * 5 = 40\n",
      "8 * 6 = 48\n",
      "8 * 7 = 56\n",
      "8 * 8 = 64\n",
      "8 * 9 = 72\n",
      "8 * 10 = 80\n",
      "\n",
      "9 * 1 = 9\n",
      "9 * 2 = 18\n",
      "9 * 3 = 27\n",
      "9 * 4 = 36\n",
      "9 * 5 = 45\n",
      "9 * 6 = 54\n",
      "9 * 7 = 63\n",
      "9 * 8 = 72\n",
      "9 * 9 = 81\n",
      "9 * 10 = 90\n",
      "\n",
      "10 * 1 = 10\n",
      "10 * 2 = 20\n",
      "10 * 3 = 30\n",
      "10 * 4 = 40\n",
      "10 * 5 = 50\n",
      "10 * 6 = 60\n",
      "10 * 7 = 70\n",
      "10 * 8 = 80\n",
      "10 * 9 = 90\n",
      "10 * 10 = 100\n",
      "\n"
     ]
    }
   ],
   "source": [
    "for i in range(1, 11):  # Outer loop for rows\n",
    "    for j in range(1, 11):  # Inner loop for columns\n",
    "        product = i * j\n",
    "        print(f\"{i} * {j} = {product}\")  # Print with a tab separator\n",
    "    print()  # Move to the next row\n"
   ]
  },
  {
   "cell_type": "code",
   "execution_count": 397,
   "id": "58fbddc2",
   "metadata": {},
   "outputs": [],
   "source": [
    "#python builtin functions"
   ]
  },
  {
   "cell_type": "code",
   "execution_count": 398,
   "id": "3f5efdff",
   "metadata": {},
   "outputs": [
    {
     "data": {
      "text/plain": [
       "1"
      ]
     },
     "execution_count": 398,
     "metadata": {},
     "output_type": "execute_result"
    }
   ],
   "source": [
    "abs(-1)"
   ]
  },
  {
   "cell_type": "code",
   "execution_count": 37,
   "id": "7a384c62",
   "metadata": {},
   "outputs": [
    {
     "data": {
      "text/plain": [
       "False"
      ]
     },
     "execution_count": 37,
     "metadata": {},
     "output_type": "execute_result"
    }
   ],
   "source": [
    "all([10>5,5<10,10==11])"
   ]
  },
  {
   "cell_type": "code",
   "execution_count": 401,
   "id": "3a433ace",
   "metadata": {},
   "outputs": [
    {
     "data": {
      "text/plain": [
       "False"
      ]
     },
     "execution_count": 401,
     "metadata": {},
     "output_type": "execute_result"
    }
   ],
   "source": [
    "all([10>5,5<10,10==11])"
   ]
  },
  {
   "cell_type": "code",
   "execution_count": 402,
   "id": "265023de",
   "metadata": {},
   "outputs": [
    {
     "data": {
      "text/plain": [
       "True"
      ]
     },
     "execution_count": 402,
     "metadata": {},
     "output_type": "execute_result"
    }
   ],
   "source": [
    "any([10>5,5<10,10==11])"
   ]
  },
  {
   "cell_type": "code",
   "execution_count": 405,
   "id": "5d777754",
   "metadata": {},
   "outputs": [
    {
     "name": "stdout",
     "output_type": "stream",
     "text": [
      "'a'\n"
     ]
    }
   ],
   "source": [
    "print(ascii(\"a\"))"
   ]
  },
  {
   "cell_type": "code",
   "execution_count": 406,
   "id": "2faeef92",
   "metadata": {},
   "outputs": [
    {
     "data": {
      "text/plain": [
       "'0b1010'"
      ]
     },
     "execution_count": 406,
     "metadata": {},
     "output_type": "execute_result"
    }
   ],
   "source": [
    "bin(10)"
   ]
  },
  {
   "cell_type": "code",
   "execution_count": 407,
   "id": "eff796a9",
   "metadata": {},
   "outputs": [
    {
     "data": {
      "text/plain": [
       "True"
      ]
     },
     "execution_count": 407,
     "metadata": {},
     "output_type": "execute_result"
    }
   ],
   "source": [
    "callable(print)"
   ]
  },
  {
   "cell_type": "code",
   "execution_count": 408,
   "id": "996c8dd7",
   "metadata": {},
   "outputs": [
    {
     "data": {
      "text/plain": [
       "False"
      ]
     },
     "execution_count": 408,
     "metadata": {},
     "output_type": "execute_result"
    }
   ],
   "source": [
    "a=10\n",
    "callable(a)"
   ]
  },
  {
   "cell_type": "code",
   "execution_count": 409,
   "id": "ef92a1bc",
   "metadata": {},
   "outputs": [
    {
     "data": {
      "text/plain": [
       "'A'"
      ]
     },
     "execution_count": 409,
     "metadata": {},
     "output_type": "execute_result"
    }
   ],
   "source": [
    "chr(65)"
   ]
  },
  {
   "cell_type": "code",
   "execution_count": 410,
   "id": "8db6aac6",
   "metadata": {},
   "outputs": [
    {
     "data": {
      "text/plain": [
       "{'One': '1', 'Two': '2'}"
      ]
     },
     "execution_count": 410,
     "metadata": {},
     "output_type": "execute_result"
    }
   ],
   "source": [
    "dict(One = \"1\", Two = \"2\")"
   ]
  },
  {
   "cell_type": "code",
   "execution_count": 38,
   "id": "7669cfa1",
   "metadata": {},
   "outputs": [
    {
     "data": {
      "text/plain": [
       "['__add__',\n",
       " '__class__',\n",
       " '__class_getitem__',\n",
       " '__contains__',\n",
       " '__delattr__',\n",
       " '__dir__',\n",
       " '__doc__',\n",
       " '__eq__',\n",
       " '__format__',\n",
       " '__ge__',\n",
       " '__getattribute__',\n",
       " '__getitem__',\n",
       " '__getnewargs__',\n",
       " '__getstate__',\n",
       " '__gt__',\n",
       " '__hash__',\n",
       " '__init__',\n",
       " '__init_subclass__',\n",
       " '__iter__',\n",
       " '__le__',\n",
       " '__len__',\n",
       " '__lt__',\n",
       " '__mul__',\n",
       " '__ne__',\n",
       " '__new__',\n",
       " '__reduce__',\n",
       " '__reduce_ex__',\n",
       " '__repr__',\n",
       " '__rmul__',\n",
       " '__setattr__',\n",
       " '__sizeof__',\n",
       " '__str__',\n",
       " '__subclasshook__',\n",
       " 'count',\n",
       " 'index']"
      ]
     },
     "execution_count": 38,
     "metadata": {},
     "output_type": "execute_result"
    }
   ],
   "source": [
    "lst =(10,20,30)\n",
    "dir(lst)"
   ]
  },
  {
   "cell_type": "code",
   "execution_count": 415,
   "id": "ccef9a2f",
   "metadata": {},
   "outputs": [
    {
     "data": {
      "text/plain": [
       "(3, 1)"
      ]
     },
     "execution_count": 415,
     "metadata": {},
     "output_type": "execute_result"
    }
   ],
   "source": [
    "divmod(10,3) #Takes two numbers and returns a pair of numbers consisting of their quotient and remainder"
   ]
  },
  {
   "cell_type": "code",
   "execution_count": 416,
   "id": "9ece76c2",
   "metadata": {},
   "outputs": [
    {
     "data": {
      "text/plain": [
       "10.0"
      ]
     },
     "execution_count": 416,
     "metadata": {},
     "output_type": "execute_result"
    }
   ],
   "source": [
    "float(10)"
   ]
  },
  {
   "cell_type": "code",
   "execution_count": 418,
   "id": "f727ce30",
   "metadata": {},
   "outputs": [
    {
     "data": {
      "text/plain": [
       "-3646195214425577490"
      ]
     },
     "execution_count": 418,
     "metadata": {},
     "output_type": "execute_result"
    }
   ],
   "source": [
    "hash('babjee')"
   ]
  },
  {
   "cell_type": "code",
   "execution_count": 420,
   "id": "9ec8ee16",
   "metadata": {},
   "outputs": [
    {
     "data": {
      "text/plain": [
       "'0x64'"
      ]
     },
     "execution_count": 420,
     "metadata": {},
     "output_type": "execute_result"
    }
   ],
   "source": [
    "hex(100)"
   ]
  },
  {
   "cell_type": "code",
   "execution_count": 421,
   "id": "8f1cac2e",
   "metadata": {},
   "outputs": [
    {
     "data": {
      "text/plain": [
       "10"
      ]
     },
     "execution_count": 421,
     "metadata": {},
     "output_type": "execute_result"
    }
   ],
   "source": [
    "int(10.2)"
   ]
  },
  {
   "cell_type": "code",
   "execution_count": 422,
   "id": "909c9d1b",
   "metadata": {},
   "outputs": [
    {
     "data": {
      "text/plain": [
       "3"
      ]
     },
     "execution_count": 422,
     "metadata": {},
     "output_type": "execute_result"
    }
   ],
   "source": [
    "len([10,20,30])"
   ]
  },
  {
   "cell_type": "code",
   "execution_count": 423,
   "id": "d850143e",
   "metadata": {},
   "outputs": [
    {
     "data": {
      "text/plain": [
       "6"
      ]
     },
     "execution_count": 423,
     "metadata": {},
     "output_type": "execute_result"
    }
   ],
   "source": [
    "len('babjee')"
   ]
  },
  {
   "cell_type": "code",
   "execution_count": 39,
   "id": "0cc1ab26",
   "metadata": {},
   "outputs": [
    {
     "data": {
      "text/plain": [
       "30"
      ]
     },
     "execution_count": 39,
     "metadata": {},
     "output_type": "execute_result"
    }
   ],
   "source": [
    "max(10,20,30)"
   ]
  },
  {
   "cell_type": "code",
   "execution_count": 425,
   "id": "53bc8e82",
   "metadata": {},
   "outputs": [
    {
     "data": {
      "text/plain": [
       "20"
      ]
     },
     "execution_count": 425,
     "metadata": {},
     "output_type": "execute_result"
    }
   ],
   "source": [
    "max([10,20,5])"
   ]
  },
  {
   "cell_type": "code",
   "execution_count": 426,
   "id": "b0420d2d",
   "metadata": {},
   "outputs": [
    {
     "data": {
      "text/plain": [
       "20"
      ]
     },
     "execution_count": 426,
     "metadata": {},
     "output_type": "execute_result"
    }
   ],
   "source": [
    "max([10,20,5])"
   ]
  },
  {
   "cell_type": "code",
   "execution_count": 432,
   "id": "18e81468",
   "metadata": {},
   "outputs": [
    {
     "data": {
      "text/plain": [
       "100"
      ]
     },
     "execution_count": 432,
     "metadata": {},
     "output_type": "execute_result"
    }
   ],
   "source": [
    "pow(10,2)"
   ]
  },
  {
   "cell_type": "code",
   "execution_count": 41,
   "id": "a90ff03f",
   "metadata": {},
   "outputs": [
    {
     "name": "stdout",
     "output_type": "stream",
     "text": [
      "['BMW', 'bolero', 'swift', 'nano']\n"
     ]
    }
   ],
   "source": [
    "cars = [\"nano\", \"swift\", \"bolero\", \"BMW\"] \n",
    "\n",
    "reversed_cars = list(reversed(cars)) \n",
    "print(reversed_cars)"
   ]
  },
  {
   "cell_type": "code",
   "execution_count": 437,
   "id": "c0e1a8d3",
   "metadata": {},
   "outputs": [
    {
     "name": "stdout",
     "output_type": "stream",
     "text": [
      "25\n"
     ]
    }
   ],
   "source": [
    "\n",
    "\n",
    "numbers = [1,2,3,4,5,1,4,5]\n",
    " \n",
    "Sum = sum(numbers)\n",
    "print(Sum)"
   ]
  },
  {
   "cell_type": "code",
   "execution_count": 439,
   "id": "c50ba38e",
   "metadata": {},
   "outputs": [],
   "source": [
    "name = [ \"Manjeet\", \"Nikhil\", \"Shambhavi\", \"Astha\" ]\n",
    "roll_no = [ 4, 1, 3, 2 ]\n",
    " \n",
    "# using zip() to map values\n",
    "mapped = zip(name, roll_no)"
   ]
  },
  {
   "cell_type": "code",
   "execution_count": 444,
   "id": "f02fe13f",
   "metadata": {},
   "outputs": [
    {
     "name": "stdout",
     "output_type": "stream",
     "text": [
      "[('Manjeet', 4), ('Nikhil', 1), ('Shambhavi', 3), ('Astha', 2)]\n"
     ]
    }
   ],
   "source": [
    "print(list(mapped))"
   ]
  },
  {
   "cell_type": "code",
   "execution_count": 44,
   "id": "dd395d51",
   "metadata": {},
   "outputs": [],
   "source": [
    "import math"
   ]
  },
  {
   "cell_type": "code",
   "execution_count": 2,
   "id": "d84088a6",
   "metadata": {},
   "outputs": [
    {
     "data": {
      "text/plain": [
       "17"
      ]
     },
     "execution_count": 2,
     "metadata": {},
     "output_type": "execute_result"
    }
   ],
   "source": [
    "math.ceil(16.5) #It returns the smallest integer that is greater than or equal to the given value."
   ]
  },
  {
   "cell_type": "code",
   "execution_count": 3,
   "id": "7c784140",
   "metadata": {},
   "outputs": [
    {
     "data": {
      "text/plain": [
       "16"
      ]
     },
     "execution_count": 3,
     "metadata": {},
     "output_type": "execute_result"
    }
   ],
   "source": [
    "math.floor(16.6) #It returns the largest integer that is less than or equal to the given value."
   ]
  },
  {
   "cell_type": "code",
   "execution_count": 4,
   "id": "7d126351",
   "metadata": {},
   "outputs": [
    {
     "data": {
      "text/plain": [
       "22026.465794806718"
      ]
     },
     "execution_count": 4,
     "metadata": {},
     "output_type": "execute_result"
    }
   ],
   "source": [
    "math.exp(10)"
   ]
  },
  {
   "cell_type": "code",
   "execution_count": 45,
   "id": "7851816a",
   "metadata": {},
   "outputs": [
    {
     "data": {
      "text/plain": [
       "float"
      ]
     },
     "execution_count": 45,
     "metadata": {},
     "output_type": "execute_result"
    }
   ],
   "source": [
    "type(math.fabs(-11)) #Return the absolute value of the float x"
   ]
  },
  {
   "cell_type": "code",
   "execution_count": 6,
   "id": "93351896",
   "metadata": {},
   "outputs": [
    {
     "data": {
      "text/plain": [
       "3628800"
      ]
     },
     "execution_count": 6,
     "metadata": {},
     "output_type": "execute_result"
    }
   ],
   "source": [
    "math.factorial(10)"
   ]
  },
  {
   "cell_type": "code",
   "execution_count": 7,
   "id": "d57d9813",
   "metadata": {},
   "outputs": [
    {
     "data": {
      "text/plain": [
       "0.0"
      ]
     },
     "execution_count": 7,
     "metadata": {},
     "output_type": "execute_result"
    }
   ],
   "source": [
    "math.fmod(10,2) #Return the modules value of the float x"
   ]
  },
  {
   "cell_type": "code",
   "execution_count": 8,
   "id": "43ebfbce",
   "metadata": {},
   "outputs": [
    {
     "data": {
      "text/plain": [
       "100.0"
      ]
     },
     "execution_count": 8,
     "metadata": {},
     "output_type": "execute_result"
    }
   ],
   "source": [
    "math.fsum([10,20,30,40])"
   ]
  },
  {
   "cell_type": "code",
   "execution_count": 11,
   "id": "78eefe16",
   "metadata": {},
   "outputs": [
    {
     "data": {
      "text/plain": [
       "3.0"
      ]
     },
     "execution_count": 11,
     "metadata": {},
     "output_type": "execute_result"
    }
   ],
   "source": [
    "math.sqrt(9)"
   ]
  },
  {
   "cell_type": "code",
   "execution_count": 12,
   "id": "4fc5c94f",
   "metadata": {},
   "outputs": [
    {
     "data": {
      "text/plain": [
       "2.302585092994046"
      ]
     },
     "execution_count": 12,
     "metadata": {},
     "output_type": "execute_result"
    }
   ],
   "source": [
    "math.log(10)"
   ]
  },
  {
   "cell_type": "code",
   "execution_count": 13,
   "id": "3714571e",
   "metadata": {},
   "outputs": [
    {
     "data": {
      "text/plain": [
       "3.321928094887362"
      ]
     },
     "execution_count": 13,
     "metadata": {},
     "output_type": "execute_result"
    }
   ],
   "source": [
    "math.log2(10)"
   ]
  },
  {
   "cell_type": "code",
   "execution_count": 14,
   "id": "c76ec42d",
   "metadata": {},
   "outputs": [
    {
     "data": {
      "text/plain": [
       "2.0"
      ]
     },
     "execution_count": 14,
     "metadata": {},
     "output_type": "execute_result"
    }
   ],
   "source": [
    "math.log10(100)"
   ]
  },
  {
   "cell_type": "code",
   "execution_count": 15,
   "id": "5cef46f4",
   "metadata": {},
   "outputs": [
    {
     "data": {
      "text/plain": [
       "3.141592653589793"
      ]
     },
     "execution_count": 15,
     "metadata": {},
     "output_type": "execute_result"
    }
   ],
   "source": [
    "math.pi"
   ]
  },
  {
   "cell_type": "code",
   "execution_count": 16,
   "id": "c17ba93d",
   "metadata": {},
   "outputs": [
    {
     "data": {
      "text/plain": [
       "100.0"
      ]
     },
     "execution_count": 16,
     "metadata": {},
     "output_type": "execute_result"
    }
   ],
   "source": [
    "math.pow(10,2)"
   ]
  },
  {
   "cell_type": "code",
   "execution_count": 17,
   "id": "fbf1b590",
   "metadata": {},
   "outputs": [
    {
     "data": {
      "text/plain": [
       "0.8414709848078965"
      ]
     },
     "execution_count": 17,
     "metadata": {},
     "output_type": "execute_result"
    }
   ],
   "source": [
    "math.sin(1) #Return the sine of x (measured in radians)."
   ]
  },
  {
   "cell_type": "code",
   "execution_count": 18,
   "id": "72eb0999",
   "metadata": {},
   "outputs": [
    {
     "data": {
      "text/plain": [
       "0.5403023058681398"
      ]
     },
     "execution_count": 18,
     "metadata": {},
     "output_type": "execute_result"
    }
   ],
   "source": [
    "math.cos(1) #Return the cosine of x (measured in radians)."
   ]
  },
  {
   "cell_type": "code",
   "execution_count": 19,
   "id": "990dae3c",
   "metadata": {},
   "outputs": [
    {
     "data": {
      "text/plain": [
       "1.5574077246549023"
      ]
     },
     "execution_count": 19,
     "metadata": {},
     "output_type": "execute_result"
    }
   ],
   "source": [
    "math.tan(1) #Return the tangent of x (measured in radians)."
   ]
  },
  {
   "cell_type": "code",
   "execution_count": 46,
   "id": "d8226b96",
   "metadata": {},
   "outputs": [
    {
     "data": {
      "text/plain": [
       "10"
      ]
     },
     "execution_count": 46,
     "metadata": {},
     "output_type": "execute_result"
    }
   ],
   "source": [
    "math.trunc(10.999999999)"
   ]
  },
  {
   "cell_type": "code",
   "execution_count": 21,
   "id": "1be6e49e",
   "metadata": {},
   "outputs": [
    {
     "data": {
      "text/plain": [
       "19"
      ]
     },
     "execution_count": 21,
     "metadata": {},
     "output_type": "execute_result"
    }
   ],
   "source": [
    "math.trunc(19.6)"
   ]
  },
  {
   "cell_type": "code",
   "execution_count": 47,
   "id": "2ea7d5cf",
   "metadata": {},
   "outputs": [],
   "source": [
    "import datetime"
   ]
  },
  {
   "cell_type": "code",
   "execution_count": 48,
   "id": "f20a8f62",
   "metadata": {},
   "outputs": [
    {
     "name": "stdout",
     "output_type": "stream",
     "text": [
      "2024-04-03 11:56:56.966366\n"
     ]
    }
   ],
   "source": [
    "x = datetime.datetime.now()\n",
    "print(x)"
   ]
  },
  {
   "cell_type": "code",
   "execution_count": 29,
   "id": "04044c2d",
   "metadata": {},
   "outputs": [],
   "source": [
    "x = datetime.datetime(2020, 5, 17)"
   ]
  },
  {
   "cell_type": "code",
   "execution_count": 30,
   "id": "ac7a30e2",
   "metadata": {},
   "outputs": [
    {
     "name": "stdout",
     "output_type": "stream",
     "text": [
      "2020-05-17 00:00:00\n"
     ]
    }
   ],
   "source": [
    "print(x)"
   ]
  },
  {
   "cell_type": "code",
   "execution_count": 31,
   "id": "1eae63b5",
   "metadata": {},
   "outputs": [],
   "source": [
    "x = datetime.datetime.now()"
   ]
  },
  {
   "cell_type": "code",
   "execution_count": 32,
   "id": "45788d1a",
   "metadata": {},
   "outputs": [
    {
     "data": {
      "text/plain": [
       "2024"
      ]
     },
     "execution_count": 32,
     "metadata": {},
     "output_type": "execute_result"
    }
   ],
   "source": [
    "x.year"
   ]
  },
  {
   "cell_type": "code",
   "execution_count": 33,
   "id": "8f04eadc",
   "metadata": {},
   "outputs": [
    {
     "data": {
      "text/plain": [
       "4"
      ]
     },
     "execution_count": 33,
     "metadata": {},
     "output_type": "execute_result"
    }
   ],
   "source": [
    "x.month"
   ]
  },
  {
   "cell_type": "code",
   "execution_count": 34,
   "id": "da9e4224",
   "metadata": {},
   "outputs": [
    {
     "data": {
      "text/plain": [
       "2"
      ]
     },
     "execution_count": 34,
     "metadata": {},
     "output_type": "execute_result"
    }
   ],
   "source": [
    "x.day"
   ]
  },
  {
   "cell_type": "code",
   "execution_count": 35,
   "id": "cae5dd93",
   "metadata": {},
   "outputs": [
    {
     "data": {
      "text/plain": [
       "11"
      ]
     },
     "execution_count": 35,
     "metadata": {},
     "output_type": "execute_result"
    }
   ],
   "source": [
    "x.hour"
   ]
  },
  {
   "cell_type": "code",
   "execution_count": 36,
   "id": "609751f3",
   "metadata": {},
   "outputs": [
    {
     "data": {
      "text/plain": [
       "45"
      ]
     },
     "execution_count": 36,
     "metadata": {},
     "output_type": "execute_result"
    }
   ],
   "source": [
    "x.minute"
   ]
  },
  {
   "cell_type": "code",
   "execution_count": 37,
   "id": "4ccb982c",
   "metadata": {},
   "outputs": [
    {
     "data": {
      "text/plain": [
       "11"
      ]
     },
     "execution_count": 37,
     "metadata": {},
     "output_type": "execute_result"
    }
   ],
   "source": [
    "x.hour"
   ]
  },
  {
   "cell_type": "code",
   "execution_count": 38,
   "id": "e5a5c2b0",
   "metadata": {},
   "outputs": [
    {
     "data": {
      "text/plain": [
       "22"
      ]
     },
     "execution_count": 38,
     "metadata": {},
     "output_type": "execute_result"
    }
   ],
   "source": [
    "x.second"
   ]
  },
  {
   "cell_type": "code",
   "execution_count": 39,
   "id": "6bdc0a05",
   "metadata": {},
   "outputs": [
    {
     "data": {
      "text/plain": [
       "'Tue'"
      ]
     },
     "execution_count": 39,
     "metadata": {},
     "output_type": "execute_result"
    }
   ],
   "source": [
    "x.strftime('%a')"
   ]
  },
  {
   "cell_type": "code",
   "execution_count": 40,
   "id": "b840969c",
   "metadata": {},
   "outputs": [
    {
     "data": {
      "text/plain": [
       "'Tuesday'"
      ]
     },
     "execution_count": 40,
     "metadata": {},
     "output_type": "execute_result"
    }
   ],
   "source": [
    "x.strftime('%A')"
   ]
  },
  {
   "cell_type": "code",
   "execution_count": 42,
   "id": "c0441a6b",
   "metadata": {},
   "outputs": [
    {
     "data": {
      "text/plain": [
       "'Tue Apr  2 11:45:22 2024'"
      ]
     },
     "execution_count": 42,
     "metadata": {},
     "output_type": "execute_result"
    }
   ],
   "source": [
    "x.strftime('%c')"
   ]
  },
  {
   "cell_type": "code",
   "execution_count": 43,
   "id": "95ed55f4",
   "metadata": {},
   "outputs": [
    {
     "data": {
      "text/plain": [
       "'20'"
      ]
     },
     "execution_count": 43,
     "metadata": {},
     "output_type": "execute_result"
    }
   ],
   "source": [
    "x.strftime('%C')"
   ]
  },
  {
   "cell_type": "code",
   "execution_count": 44,
   "id": "1b6e3305",
   "metadata": {},
   "outputs": [
    {
     "data": {
      "text/plain": [
       "'02'"
      ]
     },
     "execution_count": 44,
     "metadata": {},
     "output_type": "execute_result"
    }
   ],
   "source": [
    "x.strftime('%d')"
   ]
  },
  {
   "cell_type": "code",
   "execution_count": 45,
   "id": "2b8cccdb",
   "metadata": {},
   "outputs": [
    {
     "data": {
      "text/plain": [
       "'04/02/24'"
      ]
     },
     "execution_count": 45,
     "metadata": {},
     "output_type": "execute_result"
    }
   ],
   "source": [
    "x.strftime('%D')"
   ]
  },
  {
   "cell_type": "code",
   "execution_count": 49,
   "id": "d2e270e2",
   "metadata": {},
   "outputs": [
    {
     "data": {
      "text/plain": [
       "'04'"
      ]
     },
     "execution_count": 49,
     "metadata": {},
     "output_type": "execute_result"
    }
   ],
   "source": [
    "x.strftime('%m')"
   ]
  },
  {
   "cell_type": "code",
   "execution_count": 51,
   "id": "6776dcf3",
   "metadata": {},
   "outputs": [
    {
     "data": {
      "text/plain": [
       "'24'"
      ]
     },
     "execution_count": 51,
     "metadata": {},
     "output_type": "execute_result"
    }
   ],
   "source": [
    "x.strftime('%y')"
   ]
  },
  {
   "cell_type": "code",
   "execution_count": 52,
   "id": "316ef78c",
   "metadata": {},
   "outputs": [
    {
     "data": {
      "text/plain": [
       "'2024'"
      ]
     },
     "execution_count": 52,
     "metadata": {},
     "output_type": "execute_result"
    }
   ],
   "source": [
    "x.strftime('%Y')"
   ]
  },
  {
   "cell_type": "code",
   "execution_count": 53,
   "id": "4cdc10d4",
   "metadata": {},
   "outputs": [
    {
     "data": {
      "text/plain": [
       "'11'"
      ]
     },
     "execution_count": 53,
     "metadata": {},
     "output_type": "execute_result"
    }
   ],
   "source": [
    "x.strftime('%H') #Hour 00-23"
   ]
  },
  {
   "cell_type": "code",
   "execution_count": 56,
   "id": "e4ea8cad",
   "metadata": {},
   "outputs": [
    {
     "data": {
      "text/plain": [
       "'11'"
      ]
     },
     "execution_count": 56,
     "metadata": {},
     "output_type": "execute_result"
    }
   ],
   "source": [
    "x.strftime('%I') #Hour 00-12"
   ]
  },
  {
   "cell_type": "code",
   "execution_count": 57,
   "id": "c1239a11",
   "metadata": {},
   "outputs": [
    {
     "data": {
      "text/plain": [
       "'45'"
      ]
     },
     "execution_count": 57,
     "metadata": {},
     "output_type": "execute_result"
    }
   ],
   "source": [
    "x.strftime('%M') #minute"
   ]
  },
  {
   "cell_type": "code",
   "execution_count": 58,
   "id": "8c91828d",
   "metadata": {},
   "outputs": [
    {
     "data": {
      "text/plain": [
       "'22'"
      ]
     },
     "execution_count": 58,
     "metadata": {},
     "output_type": "execute_result"
    }
   ],
   "source": [
    "x.strftime('%S') #second"
   ]
  },
  {
   "cell_type": "code",
   "execution_count": 59,
   "id": "a4b78eac",
   "metadata": {},
   "outputs": [
    {
     "data": {
      "text/plain": [
       "'093'"
      ]
     },
     "execution_count": 59,
     "metadata": {},
     "output_type": "execute_result"
    }
   ],
   "source": [
    "x.strftime('%j') #Day number of year 001-366"
   ]
  },
  {
   "cell_type": "code",
   "execution_count": 61,
   "id": "6f7ec6cf",
   "metadata": {},
   "outputs": [
    {
     "data": {
      "text/plain": [
       "'14'"
      ]
     },
     "execution_count": 61,
     "metadata": {},
     "output_type": "execute_result"
    }
   ],
   "source": [
    "x.strftime('%W') #Week number of year,"
   ]
  },
  {
   "cell_type": "code",
   "execution_count": 62,
   "id": "bb6b3999",
   "metadata": {},
   "outputs": [
    {
     "data": {
      "text/plain": [
       "'AM'"
      ]
     },
     "execution_count": 62,
     "metadata": {},
     "output_type": "execute_result"
    }
   ],
   "source": [
    "x.strftime('%p')"
   ]
  },
  {
   "cell_type": "code",
   "execution_count": 51,
   "id": "06baf30a",
   "metadata": {},
   "outputs": [
    {
     "data": {
      "text/plain": [
       "'03/04/2024 115656 AM'"
      ]
     },
     "execution_count": 51,
     "metadata": {},
     "output_type": "execute_result"
    }
   ],
   "source": [
    "x.strftime('%d/%m/%Y %H%M%S %p')"
   ]
  },
  {
   "cell_type": "code",
   "execution_count": 65,
   "id": "b77170eb",
   "metadata": {},
   "outputs": [],
   "source": [
    "#An iterator is an object that can be iterated upon, meaning that you can traverse through all the values."
   ]
  },
  {
   "cell_type": "code",
   "execution_count": 52,
   "id": "4bd4ed93",
   "metadata": {},
   "outputs": [
    {
     "name": "stdout",
     "output_type": "stream",
     "text": [
      "b\n",
      "a\n",
      "n\n",
      "a\n",
      "n\n",
      "a\n"
     ]
    }
   ],
   "source": [
    "mystr = \"banana\"\n",
    "myit = iter(mystr)\n",
    "\n",
    "print(next(myit))\n",
    "print(next(myit))\n",
    "print(next(myit))\n",
    "print(next(myit))\n",
    "print(next(myit))\n",
    "print(next(myit))"
   ]
  },
  {
   "cell_type": "code",
   "execution_count": 57,
   "id": "00188e65",
   "metadata": {},
   "outputs": [],
   "source": [
    "def myfun():\n",
    "    print('Hi Babjee')"
   ]
  },
  {
   "cell_type": "code",
   "execution_count": 55,
   "id": "65676dac",
   "metadata": {},
   "outputs": [
    {
     "name": "stdout",
     "output_type": "stream",
     "text": [
      "Hi Babjee\n"
     ]
    }
   ],
   "source": [
    "myfun()"
   ]
  },
  {
   "cell_type": "code",
   "execution_count": 59,
   "id": "82689b50",
   "metadata": {},
   "outputs": [],
   "source": [
    "def myfun(greet,name):\n",
    "    print(greet,name)"
   ]
  },
  {
   "cell_type": "code",
   "execution_count": 60,
   "id": "5a09d9aa",
   "metadata": {},
   "outputs": [
    {
     "name": "stdout",
     "output_type": "stream",
     "text": [
      "Hi Babjee\n"
     ]
    }
   ],
   "source": [
    "myfun('Hi','Babjee')"
   ]
  },
  {
   "cell_type": "code",
   "execution_count": 61,
   "id": "8cfa2243",
   "metadata": {},
   "outputs": [],
   "source": [
    "def add(num1, num2):\n",
    "    return num1+num2"
   ]
  },
  {
   "cell_type": "code",
   "execution_count": 66,
   "id": "f628e21b",
   "metadata": {},
   "outputs": [
    {
     "ename": "TypeError",
     "evalue": "add() takes 2 positional arguments but 3 were given",
     "output_type": "error",
     "traceback": [
      "\u001b[1;31m---------------------------------------------------------------------------\u001b[0m",
      "\u001b[1;31mTypeError\u001b[0m                                 Traceback (most recent call last)",
      "Cell \u001b[1;32mIn[66], line 1\u001b[0m\n\u001b[1;32m----> 1\u001b[0m add(\u001b[38;5;241m10\u001b[39m,\u001b[38;5;241m20\u001b[39m,\u001b[38;5;241m20\u001b[39m)\n",
      "\u001b[1;31mTypeError\u001b[0m: add() takes 2 positional arguments but 3 were given"
     ]
    }
   ],
   "source": [
    "add(10,20,20)"
   ]
  },
  {
   "cell_type": "code",
   "execution_count": 63,
   "id": "cb6177b6",
   "metadata": {},
   "outputs": [
    {
     "data": {
      "text/plain": [
       "10.0"
      ]
     },
     "execution_count": 63,
     "metadata": {},
     "output_type": "execute_result"
    }
   ],
   "source": [
    "100/add(8,2)"
   ]
  },
  {
   "cell_type": "code",
   "execution_count": 67,
   "id": "e5222ff6",
   "metadata": {},
   "outputs": [],
   "source": [
    "def myfun(name,age):\n",
    "    print('Name is ',name)\n",
    "    print('Age is ',age)"
   ]
  },
  {
   "cell_type": "code",
   "execution_count": 70,
   "id": "4603521f",
   "metadata": {},
   "outputs": [
    {
     "name": "stdout",
     "output_type": "stream",
     "text": [
      "Name is  babjee\n",
      "Age is  49\n"
     ]
    }
   ],
   "source": [
    "myfun(age=49,name='babjee')"
   ]
  },
  {
   "cell_type": "code",
   "execution_count": 76,
   "id": "b9527603",
   "metadata": {},
   "outputs": [
    {
     "name": "stdout",
     "output_type": "stream",
     "text": [
      "Name is  babjee\n",
      "Age is  40\n"
     ]
    }
   ],
   "source": [
    "myfun(age=40,name='babjee')"
   ]
  },
  {
   "cell_type": "code",
   "execution_count": 71,
   "id": "86b443de",
   "metadata": {},
   "outputs": [],
   "source": [
    "def myfun(greet='Hi',name='ram'):\n",
    "    print(greet,name)"
   ]
  },
  {
   "cell_type": "code",
   "execution_count": 72,
   "id": "90643c4f",
   "metadata": {},
   "outputs": [
    {
     "name": "stdout",
     "output_type": "stream",
     "text": [
      "Hi ram\n"
     ]
    }
   ],
   "source": [
    "myfun()"
   ]
  },
  {
   "cell_type": "code",
   "execution_count": 73,
   "id": "2b71e772",
   "metadata": {},
   "outputs": [
    {
     "name": "stdout",
     "output_type": "stream",
     "text": [
      "Hello Sham\n"
     ]
    }
   ],
   "source": [
    "myfun('Hello','Sham')"
   ]
  },
  {
   "cell_type": "code",
   "execution_count": 87,
   "id": "fd2dc6e1",
   "metadata": {},
   "outputs": [
    {
     "name": "stdout",
     "output_type": "stream",
     "text": [
      "Hi sunil\n"
     ]
    }
   ],
   "source": [
    "myfun(name='sunil')"
   ]
  },
  {
   "cell_type": "code",
   "execution_count": 74,
   "id": "661b78ef",
   "metadata": {},
   "outputs": [
    {
     "name": "stdout",
     "output_type": "stream",
     "text": [
      "Hello ram\n"
     ]
    }
   ],
   "source": [
    "myfun(greet='Hello')"
   ]
  },
  {
   "cell_type": "code",
   "execution_count": 75,
   "id": "98b572dc",
   "metadata": {},
   "outputs": [
    {
     "name": "stdout",
     "output_type": "stream",
     "text": [
      "Python is awesome\n"
     ]
    }
   ],
   "source": [
    "x = \"awesome\"\n",
    "def myfunc():\n",
    "  print(\"Python is \" + x)\n",
    "myfunc()"
   ]
  },
  {
   "cell_type": "code",
   "execution_count": 76,
   "id": "d4aeddce",
   "metadata": {},
   "outputs": [],
   "source": [
    "x='Excellent'\n",
    "def myfunc():\n",
    "  global x\n",
    "  x = \"fantastic\""
   ]
  },
  {
   "cell_type": "code",
   "execution_count": 77,
   "id": "b20119c0",
   "metadata": {},
   "outputs": [
    {
     "name": "stdout",
     "output_type": "stream",
     "text": [
      "Python is fantastic\n"
     ]
    }
   ],
   "source": [
    "myfunc()\n",
    "print(\"Python is \" + x)"
   ]
  },
  {
   "cell_type": "code",
   "execution_count": 78,
   "id": "5ab0e75b",
   "metadata": {},
   "outputs": [],
   "source": [
    "### Local Variable\n",
    "x = \"awesome\"\n",
    "def myfunc():\n",
    "  x = \"fantastic\"\n",
    "  print(\"Python is \" + x)"
   ]
  },
  {
   "cell_type": "code",
   "execution_count": 79,
   "id": "cd2d4e80",
   "metadata": {},
   "outputs": [
    {
     "name": "stdout",
     "output_type": "stream",
     "text": [
      "Python is fantastic\n",
      "Python is awesome\n"
     ]
    }
   ],
   "source": [
    "myfunc()\n",
    "print(\"Python is \" + x)"
   ]
  },
  {
   "cell_type": "code",
   "execution_count": 80,
   "id": "9c83a5d9",
   "metadata": {},
   "outputs": [],
   "source": [
    "def myfun(num):\n",
    "    print(num)"
   ]
  },
  {
   "cell_type": "code",
   "execution_count": 81,
   "id": "e33860cb",
   "metadata": {},
   "outputs": [
    {
     "ename": "TypeError",
     "evalue": "myfun() takes 1 positional argument but 2 were given",
     "output_type": "error",
     "traceback": [
      "\u001b[1;31m---------------------------------------------------------------------------\u001b[0m",
      "\u001b[1;31mTypeError\u001b[0m                                 Traceback (most recent call last)",
      "Cell \u001b[1;32mIn[81], line 1\u001b[0m\n\u001b[1;32m----> 1\u001b[0m myfun(\u001b[38;5;241m10\u001b[39m,\u001b[38;5;241m20\u001b[39m)\n",
      "\u001b[1;31mTypeError\u001b[0m: myfun() takes 1 positional argument but 2 were given"
     ]
    }
   ],
   "source": [
    "myfun(10,20)"
   ]
  },
  {
   "cell_type": "code",
   "execution_count": 82,
   "id": "c07c3c1e",
   "metadata": {},
   "outputs": [],
   "source": [
    "def myfun(*arg):\n",
    "    for i in arg:\n",
    "        print(i)"
   ]
  },
  {
   "cell_type": "code",
   "execution_count": 86,
   "id": "cb7d7c33",
   "metadata": {},
   "outputs": [
    {
     "name": "stdout",
     "output_type": "stream",
     "text": [
      "10\n",
      "20\n",
      "1000\n",
      "0\n",
      "0\n"
     ]
    }
   ],
   "source": [
    "myfun(10,20,1000,000,00000)"
   ]
  },
  {
   "cell_type": "code",
   "execution_count": 88,
   "id": "7ee67f49",
   "metadata": {},
   "outputs": [],
   "source": [
    "def myfun(**arg):\n",
    "    for x,y in arg.items():\n",
    "        print(x,':',y)"
   ]
  },
  {
   "cell_type": "code",
   "execution_count": 90,
   "id": "e5347a9a",
   "metadata": {},
   "outputs": [
    {
     "name": "stdout",
     "output_type": "stream",
     "text": [
      "name : babjee\n",
      "age : 40\n",
      "city : chennai\n",
      "email : babjee@gmail.com\n"
     ]
    }
   ],
   "source": [
    "myfun(name='babjee',age=40,city='chennai',email='babjee@gmail.com')"
   ]
  },
  {
   "cell_type": "code",
   "execution_count": null,
   "id": "740e09ee",
   "metadata": {},
   "outputs": [],
   "source": [
    "lambda x:expression"
   ]
  },
  {
   "cell_type": "code",
   "execution_count": 101,
   "id": "adb40311",
   "metadata": {},
   "outputs": [],
   "source": [
    "#lambda n Python, an anonymous function means that a function is without a name. As we already know that \n",
    "#def keyword is used to define the normal functions and the lambda keyword is used to create anonymous functions."
   ]
  },
  {
   "cell_type": "code",
   "execution_count": 91,
   "id": "d0d96718",
   "metadata": {},
   "outputs": [],
   "source": [
    "x =lambda x:x+2"
   ]
  },
  {
   "cell_type": "code",
   "execution_count": 92,
   "id": "e4bfe81a",
   "metadata": {},
   "outputs": [
    {
     "name": "stdout",
     "output_type": "stream",
     "text": [
      "4\n"
     ]
    }
   ],
   "source": [
    "print(x(2))"
   ]
  },
  {
   "cell_type": "code",
   "execution_count": 93,
   "id": "65247503",
   "metadata": {},
   "outputs": [],
   "source": [
    "x =lambda x,y : x+y"
   ]
  },
  {
   "cell_type": "code",
   "execution_count": 94,
   "id": "31ba9243",
   "metadata": {},
   "outputs": [
    {
     "name": "stdout",
     "output_type": "stream",
     "text": [
      "30\n"
     ]
    }
   ],
   "source": [
    "print(x(10,20))"
   ]
  },
  {
   "cell_type": "code",
   "execution_count": 96,
   "id": "3a9e0f0a",
   "metadata": {},
   "outputs": [
    {
     "name": "stdout",
     "output_type": "stream",
     "text": [
      "Odd number\n"
     ]
    }
   ],
   "source": [
    "calc = lambda num: \"Even number\" if num % 2 == 0 else \"Odd number\"\n",
    "print(calc(21))"
   ]
  },
  {
   "cell_type": "code",
   "execution_count": 107,
   "id": "0e4fd563",
   "metadata": {},
   "outputs": [],
   "source": [
    "lambda_cube = lambda num: num ** 3"
   ]
  },
  {
   "cell_type": "code",
   "execution_count": 109,
   "id": "49c62a6d",
   "metadata": {},
   "outputs": [
    {
     "data": {
      "text/plain": [
       "1000"
      ]
     },
     "execution_count": 109,
     "metadata": {},
     "output_type": "execute_result"
    }
   ],
   "source": [
    "lambda_cube(10)"
   ]
  },
  {
   "cell_type": "code",
   "execution_count": 97,
   "id": "bb1eb695",
   "metadata": {},
   "outputs": [
    {
     "name": "stdout",
     "output_type": "stream",
     "text": [
      "[10, 20, 30, 40, 10, 20, 30, 40]\n"
     ]
    }
   ],
   "source": [
    "lst=[10,20,30,40]\n",
    "lst1=[10,20,30,40]\n",
    "print(lst+lst1)"
   ]
  },
  {
   "cell_type": "code",
   "execution_count": 110,
   "id": "60d090d7",
   "metadata": {},
   "outputs": [],
   "source": [
    "# map function to execute a specified function for each item in an iterable."
   ]
  },
  {
   "cell_type": "code",
   "execution_count": 102,
   "id": "0a6ee06e",
   "metadata": {},
   "outputs": [],
   "source": [
    "lst1 =[10,20,30,40]\n",
    "lst2=[10,20,30,40]"
   ]
  },
  {
   "cell_type": "code",
   "execution_count": 105,
   "id": "f2378fae",
   "metadata": {},
   "outputs": [],
   "source": [
    "def myfun(num1):\n",
    "    return num1 * num1"
   ]
  },
  {
   "cell_type": "code",
   "execution_count": 106,
   "id": "6dd75c03",
   "metadata": {},
   "outputs": [
    {
     "data": {
      "text/plain": [
       "100"
      ]
     },
     "execution_count": 106,
     "metadata": {},
     "output_type": "execute_result"
    }
   ],
   "source": [
    "myfun(10)"
   ]
  },
  {
   "cell_type": "code",
   "execution_count": 107,
   "id": "a3372e5d",
   "metadata": {},
   "outputs": [],
   "source": [
    "lst =map(myfun,lst1)"
   ]
  },
  {
   "cell_type": "code",
   "execution_count": 108,
   "id": "b994f870",
   "metadata": {},
   "outputs": [
    {
     "name": "stdout",
     "output_type": "stream",
     "text": [
      "[100, 400, 900, 1600]\n"
     ]
    }
   ],
   "source": [
    "print(list(lst))"
   ]
  },
  {
   "cell_type": "code",
   "execution_count": 111,
   "id": "6184b958",
   "metadata": {},
   "outputs": [],
   "source": [
    "lst =map(lambda x : x*x, lst1)"
   ]
  },
  {
   "cell_type": "code",
   "execution_count": 112,
   "id": "61dd1436",
   "metadata": {},
   "outputs": [
    {
     "name": "stdout",
     "output_type": "stream",
     "text": [
      "[100, 400, 900, 1600]\n"
     ]
    }
   ],
   "source": [
    "print(list(lst))"
   ]
  },
  {
   "cell_type": "code",
   "execution_count": 120,
   "id": "8aa5a594",
   "metadata": {},
   "outputs": [],
   "source": [
    "#The filter() function returns an iterator where the items are filtered through \n",
    "a function to test if the item is accepted or not."
   ]
  },
  {
   "cell_type": "code",
   "execution_count": 119,
   "id": "90c4ea58",
   "metadata": {},
   "outputs": [],
   "source": [
    "age=[18,20,13,40]"
   ]
  },
  {
   "cell_type": "code",
   "execution_count": 118,
   "id": "e9ba1b9c",
   "metadata": {},
   "outputs": [],
   "source": [
    "def myfun(age):\n",
    "    if age >=18:\n",
    "        return True"
   ]
  },
  {
   "cell_type": "code",
   "execution_count": 120,
   "id": "a5df490f",
   "metadata": {},
   "outputs": [],
   "source": [
    "x =filter(myfun,age)"
   ]
  },
  {
   "cell_type": "code",
   "execution_count": 121,
   "id": "73df4ca7",
   "metadata": {},
   "outputs": [
    {
     "name": "stdout",
     "output_type": "stream",
     "text": [
      "[18, 20, 40]\n"
     ]
    }
   ],
   "source": [
    "print(list(x))"
   ]
  },
  {
   "cell_type": "code",
   "execution_count": 123,
   "id": "c4f5894b",
   "metadata": {},
   "outputs": [],
   "source": [
    "lst =filter(lambda x: x >=18,age)"
   ]
  },
  {
   "cell_type": "code",
   "execution_count": 125,
   "id": "34c35c22",
   "metadata": {},
   "outputs": [
    {
     "name": "stdout",
     "output_type": "stream",
     "text": [
      "[18, 20, 40]\n"
     ]
    }
   ],
   "source": [
    "print(list(lst))"
   ]
  },
  {
   "cell_type": "code",
   "execution_count": 131,
   "id": "2c13a50b",
   "metadata": {},
   "outputs": [],
   "source": [
    "lst =filter(myfun,age)"
   ]
  },
  {
   "cell_type": "code",
   "execution_count": 132,
   "id": "baf1ff33",
   "metadata": {},
   "outputs": [
    {
     "name": "stdout",
     "output_type": "stream",
     "text": [
      "[18, 20, 40]\n"
     ]
    }
   ],
   "source": [
    "print(list(lst))"
   ]
  },
  {
   "cell_type": "code",
   "execution_count": 126,
   "id": "b6d1a329",
   "metadata": {},
   "outputs": [],
   "source": [
    "lst =[*range(10)]"
   ]
  },
  {
   "cell_type": "code",
   "execution_count": 129,
   "id": "42339c26",
   "metadata": {},
   "outputs": [
    {
     "data": {
      "text/plain": [
       "[0, 1, 2, 3, 4, 5, 6, 7, 8, 9]"
      ]
     },
     "execution_count": 129,
     "metadata": {},
     "output_type": "execute_result"
    }
   ],
   "source": [
    "lst"
   ]
  },
  {
   "cell_type": "code",
   "execution_count": 130,
   "id": "6019c1e1",
   "metadata": {},
   "outputs": [],
   "source": [
    "def myfun(num):\n",
    "    if num%2==0:\n",
    "        return True"
   ]
  },
  {
   "cell_type": "code",
   "execution_count": 138,
   "id": "172100c2",
   "metadata": {},
   "outputs": [
    {
     "data": {
      "text/plain": [
       "True"
      ]
     },
     "execution_count": 138,
     "metadata": {},
     "output_type": "execute_result"
    }
   ],
   "source": [
    "myfun(2)"
   ]
  },
  {
   "cell_type": "code",
   "execution_count": 131,
   "id": "b9c59ec5",
   "metadata": {},
   "outputs": [],
   "source": [
    "even=filter(myfun,lst)"
   ]
  },
  {
   "cell_type": "code",
   "execution_count": 132,
   "id": "21a31710",
   "metadata": {},
   "outputs": [
    {
     "name": "stdout",
     "output_type": "stream",
     "text": [
      "[0, 2, 4, 6, 8]\n"
     ]
    }
   ],
   "source": [
    "print(list(even))"
   ]
  },
  {
   "cell_type": "code",
   "execution_count": 133,
   "id": "0dac31fa",
   "metadata": {},
   "outputs": [],
   "source": [
    "o =['a','e','i','o','u']"
   ]
  },
  {
   "cell_type": "code",
   "execution_count": 140,
   "id": "096bec3b",
   "metadata": {},
   "outputs": [],
   "source": [
    "n =['b','a','b','j','e','e']"
   ]
  },
  {
   "cell_type": "code",
   "execution_count": 137,
   "id": "1c81f9fc",
   "metadata": {},
   "outputs": [],
   "source": [
    "def myfun(c):\n",
    "    if c in o:\n",
    "        return True"
   ]
  },
  {
   "cell_type": "code",
   "execution_count": 138,
   "id": "e1aa8792",
   "metadata": {},
   "outputs": [
    {
     "data": {
      "text/plain": [
       "True"
      ]
     },
     "execution_count": 138,
     "metadata": {},
     "output_type": "execute_result"
    }
   ],
   "source": [
    "myfun('a')"
   ]
  },
  {
   "cell_type": "code",
   "execution_count": 141,
   "id": "2084f798",
   "metadata": {},
   "outputs": [
    {
     "name": "stdout",
     "output_type": "stream",
     "text": [
      "['a', 'e', 'e']\n"
     ]
    }
   ],
   "source": [
    "x = filter(myfun,n)\n",
    "print(list(x))"
   ]
  },
  {
   "cell_type": "code",
   "execution_count": 142,
   "id": "201fb3ae",
   "metadata": {},
   "outputs": [],
   "source": [
    "x = filter(lambda x : x in o , n)"
   ]
  },
  {
   "cell_type": "code",
   "execution_count": 143,
   "id": "60d898f2",
   "metadata": {},
   "outputs": [
    {
     "name": "stdout",
     "output_type": "stream",
     "text": [
      "['a', 'e', 'e']\n"
     ]
    }
   ],
   "source": [
    "print(list(x))"
   ]
  },
  {
   "cell_type": "code",
   "execution_count": 146,
   "id": "963c9adb",
   "metadata": {},
   "outputs": [],
   "source": [
    "#The try block contains a set of statements where an exception can occur.\n",
    "#catch in python\n",
    "#The except block is used to handle the uncertain condition of a try block. \n",
    "#A try block is always followed by a catch block, which handles the exception that occurs in the associated try block.\n",
    "#finally \n",
    "#It is executed after the catch block. We use it to put some common code \n",
    "#(to be executed irrespective of whether an exception has occurred or not ) when there are multiple catch blocks. "
   ]
  },
  {
   "cell_type": "code",
   "execution_count": 144,
   "id": "856f6399",
   "metadata": {},
   "outputs": [
    {
     "ename": "ZeroDivisionError",
     "evalue": "division by zero",
     "output_type": "error",
     "traceback": [
      "\u001b[1;31m---------------------------------------------------------------------------\u001b[0m",
      "\u001b[1;31mZeroDivisionError\u001b[0m                         Traceback (most recent call last)",
      "Cell \u001b[1;32mIn[144], line 2\u001b[0m\n\u001b[0;32m      1\u001b[0m marks \u001b[38;5;241m=\u001b[39m \u001b[38;5;241m10000\u001b[39m\n\u001b[1;32m----> 2\u001b[0m a \u001b[38;5;241m=\u001b[39m marks \u001b[38;5;241m/\u001b[39m \u001b[38;5;241m0\u001b[39m\n\u001b[0;32m      3\u001b[0m \u001b[38;5;28mprint\u001b[39m(a)\n",
      "\u001b[1;31mZeroDivisionError\u001b[0m: division by zero"
     ]
    }
   ],
   "source": [
    "marks = 10000\n",
    "a = marks / 0\n",
    "print(a)"
   ]
  },
  {
   "cell_type": "code",
   "execution_count": 145,
   "id": "a5d400e4",
   "metadata": {},
   "outputs": [
    {
     "name": "stdout",
     "output_type": "stream",
     "text": [
      "Some error occord\n"
     ]
    }
   ],
   "source": [
    "try:\n",
    "    marks = 10000\n",
    "    a = marks / 0\n",
    "    print(a)\n",
    "except:\n",
    "    print('Some error occord')"
   ]
  },
  {
   "cell_type": "code",
   "execution_count": 146,
   "id": "7805dcd1",
   "metadata": {},
   "outputs": [
    {
     "name": "stdout",
     "output_type": "stream",
     "text": [
      "division by zero\n"
     ]
    }
   ],
   "source": [
    "try:\n",
    "    marks = 10000\n",
    "    a = marks / 0\n",
    "    print(a)\n",
    "except Exception as e:\n",
    "    print(e)"
   ]
  },
  {
   "cell_type": "code",
   "execution_count": 147,
   "id": "72ee5dad",
   "metadata": {},
   "outputs": [
    {
     "name": "stdout",
     "output_type": "stream",
     "text": [
      "ZeroDivisionError:\n"
     ]
    }
   ],
   "source": [
    "try:\n",
    "    marks = 10000\n",
    "    a = marks / 0\n",
    "    print(a)\n",
    "except ZeroDivisionError:\n",
    "    print('ZeroDivisionError:')"
   ]
  },
  {
   "cell_type": "code",
   "execution_count": 154,
   "id": "ac01684f",
   "metadata": {},
   "outputs": [
    {
     "ename": "TypeError",
     "evalue": "can only concatenate str (not \"int\") to str",
     "output_type": "error",
     "traceback": [
      "\u001b[1;31m---------------------------------------------------------------------------\u001b[0m",
      "\u001b[1;31mTypeError\u001b[0m                                 Traceback (most recent call last)",
      "Cell \u001b[1;32mIn[154], line 3\u001b[0m\n\u001b[0;32m      1\u001b[0m a \u001b[38;5;241m=\u001b[39m\u001b[38;5;124m'\u001b[39m\u001b[38;5;124mhi how are you\u001b[39m\u001b[38;5;124m'\u001b[39m\n\u001b[0;32m      2\u001b[0m b \u001b[38;5;241m=\u001b[39m\u001b[38;5;241m10\u001b[39m\n\u001b[1;32m----> 3\u001b[0m c \u001b[38;5;241m=\u001b[39m a\u001b[38;5;241m+\u001b[39mb\n",
      "\u001b[1;31mTypeError\u001b[0m: can only concatenate str (not \"int\") to str"
     ]
    }
   ],
   "source": [
    "a ='hi how are you'\n",
    "b =10\n",
    "c = a+b"
   ]
  },
  {
   "cell_type": "code",
   "execution_count": 148,
   "id": "5c8845de",
   "metadata": {},
   "outputs": [
    {
     "name": "stdout",
     "output_type": "stream",
     "text": [
      "You can not add int with string\n"
     ]
    }
   ],
   "source": [
    "a ='hi how are you'\n",
    "b =10\n",
    "try:\n",
    "    c = a+b\n",
    "except TypeError:\n",
    "    print('You can not add int with string')"
   ]
  },
  {
   "cell_type": "code",
   "execution_count": 149,
   "id": "edc65ba6",
   "metadata": {},
   "outputs": [
    {
     "ename": "ValueError",
     "evalue": "invalid literal for int() with base 10: 'hello'",
     "output_type": "error",
     "traceback": [
      "\u001b[1;31m---------------------------------------------------------------------------\u001b[0m",
      "\u001b[1;31mValueError\u001b[0m                                Traceback (most recent call last)",
      "Cell \u001b[1;32mIn[149], line 2\u001b[0m\n\u001b[0;32m      1\u001b[0m strVal \u001b[38;5;241m=\u001b[39m\u001b[38;5;124m'\u001b[39m\u001b[38;5;124mhello\u001b[39m\u001b[38;5;124m'\u001b[39m\n\u001b[1;32m----> 2\u001b[0m intVal \u001b[38;5;241m=\u001b[39m\u001b[38;5;28mint\u001b[39m(strVal)\n",
      "\u001b[1;31mValueError\u001b[0m: invalid literal for int() with base 10: 'hello'"
     ]
    }
   ],
   "source": [
    "strVal ='hello'\n",
    "intVal =int(strVal)"
   ]
  },
  {
   "cell_type": "code",
   "execution_count": 150,
   "id": "c2ab42ca",
   "metadata": {},
   "outputs": [
    {
     "name": "stdout",
     "output_type": "stream",
     "text": [
      "ZeroDivisionError error\n"
     ]
    }
   ],
   "source": [
    "try:\n",
    "    c = 10/0\n",
    "    strVal ='hello'\n",
    "    intVal =int(strVal)\n",
    "except ValueError:\n",
    "    print('You can not convert str to int')\n",
    "except ZeroDivisionError:\n",
    "    print('ZeroDivisionError error')"
   ]
  },
  {
   "cell_type": "code",
   "execution_count": 152,
   "id": "ead720be",
   "metadata": {},
   "outputs": [
    {
     "name": "stdout",
     "output_type": "stream",
     "text": [
      "Second element = 2\n",
      "Fourth element = 3\n",
      "end of the program\n"
     ]
    }
   ],
   "source": [
    "a = [1, 2, 3]\n",
    "try: \n",
    "    print (\"Second element = %d\" %(a[1]))\n",
    " \n",
    "    print (\"Fourth element = %d\" %(a[2]))\n",
    " \n",
    "except Exception as e:\n",
    "    print (e)\n",
    "finally:\n",
    "    print('end of the program')"
   ]
  },
  {
   "cell_type": "code",
   "execution_count": 153,
   "id": "ab46b3b8",
   "metadata": {},
   "outputs": [
    {
     "name": "stdout",
     "output_type": "stream",
     "text": [
      "Hello\n",
      "Nothing went wrong\n"
     ]
    }
   ],
   "source": [
    "try:\n",
    "  print(\"Hello\")\n",
    "except:\n",
    "  print(\"Something went wrong\")\n",
    "else:\n",
    "  print(\"Nothing went wrong\")"
   ]
  },
  {
   "cell_type": "code",
   "execution_count": 2,
   "id": "2c868037",
   "metadata": {},
   "outputs": [
    {
     "name": "stdout",
     "output_type": "stream",
     "text": [
      "Error: Denominator cannot be 0.\n",
      "This is finally block.\n"
     ]
    }
   ],
   "source": [
    "try:\n",
    "    numerator = 10\n",
    "    denominator = 0\n",
    "\n",
    "    result = numerator/denominator\n",
    "\n",
    "    print(result)\n",
    "except:\n",
    "    print(\"Error: Denominator cannot be 0.\")\n",
    "    \n",
    "finally:\n",
    "    print(\"This is finally block.\")"
   ]
  },
  {
   "cell_type": "code",
   "execution_count": 155,
   "id": "d96c14ee",
   "metadata": {},
   "outputs": [
    {
     "name": "stdout",
     "output_type": "stream",
     "text": [
      "Sorry, no numbers below zero\n"
     ]
    }
   ],
   "source": [
    "try:\n",
    "    x = -1\n",
    "\n",
    "    if x < 0:\n",
    "      raise Exception(\"Sorry, no numbers below zero\")\n",
    "\n",
    "except  Exception as e:\n",
    "    print(e)\n"
   ]
  },
  {
   "cell_type": "code",
   "execution_count": null,
   "id": "993bed89",
   "metadata": {},
   "outputs": [],
   "source": []
  }
 ],
 "metadata": {
  "kernelspec": {
   "display_name": "Python 3 (ipykernel)",
   "language": "python",
   "name": "python3"
  },
  "language_info": {
   "codemirror_mode": {
    "name": "ipython",
    "version": 3
   },
   "file_extension": ".py",
   "mimetype": "text/x-python",
   "name": "python",
   "nbconvert_exporter": "python",
   "pygments_lexer": "ipython3",
   "version": "3.11.5"
  }
 },
 "nbformat": 4,
 "nbformat_minor": 5
}
